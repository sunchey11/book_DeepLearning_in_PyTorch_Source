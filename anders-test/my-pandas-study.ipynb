{
 "cells": [
  {
   "cell_type": "code",
   "execution_count": 1,
   "id": "7ba27259-1cfe-4d2d-8925-6f82e9e53607",
   "metadata": {},
   "outputs": [],
   "source": [
    "import pandas as pd\n",
    "import numpy as np"
   ]
  },
  {
   "cell_type": "markdown",
   "id": "7371f020-8aed-4be6-b7b7-72caf81b62b8",
   "metadata": {},
   "source": [
    "# 1. 创建DataFrame\n",
    "https://pandas.pydata.org/docs/reference/api/pandas.DataFrame.html#pandas.DataFrame"
   ]
  },
  {
   "cell_type": "code",
   "execution_count": 2,
   "id": "f63ba6ec-cd1a-48bd-a8d3-53cf4d4bc003",
   "metadata": {},
   "outputs": [
    {
     "data": {
      "text/html": [
       "<div>\n",
       "<style scoped>\n",
       "    .dataframe tbody tr th:only-of-type {\n",
       "        vertical-align: middle;\n",
       "    }\n",
       "\n",
       "    .dataframe tbody tr th {\n",
       "        vertical-align: top;\n",
       "    }\n",
       "\n",
       "    .dataframe thead th {\n",
       "        text-align: right;\n",
       "    }\n",
       "</style>\n",
       "<table border=\"1\" class=\"dataframe\">\n",
       "  <thead>\n",
       "    <tr style=\"text-align: right;\">\n",
       "      <th></th>\n",
       "      <th>姓名</th>\n",
       "      <th>年龄</th>\n",
       "    </tr>\n",
       "  </thead>\n",
       "  <tbody>\n",
       "    <tr>\n",
       "      <th>0</th>\n",
       "      <td>小明</td>\n",
       "      <td>20</td>\n",
       "    </tr>\n",
       "    <tr>\n",
       "      <th>1</th>\n",
       "      <td>小雨</td>\n",
       "      <td>21</td>\n",
       "    </tr>\n",
       "    <tr>\n",
       "      <th>2</th>\n",
       "      <td>小花</td>\n",
       "      <td>22</td>\n",
       "    </tr>\n",
       "  </tbody>\n",
       "</table>\n",
       "</div>"
      ],
      "text/plain": [
       "   姓名  年龄\n",
       "0  小明  20\n",
       "1  小雨  21\n",
       "2  小花  22"
      ]
     },
     "execution_count": 2,
     "metadata": {},
     "output_type": "execute_result"
    }
   ],
   "source": [
    "data1 = [\"小明\", 20] # 以list 存储每一行的数据\n",
    "data2 = [\"小雨\", 21]\n",
    "data3 = [\"小花\", 22]\n",
    "header = [\"姓名\", \"年龄\"]\n",
    "df = pd.DataFrame([data1, data2, data3],columns=header) # 组成一个csv\n",
    "df.head()"
   ]
  },
  {
   "cell_type": "code",
   "execution_count": null,
   "id": "84a8ef6e-5b81-485c-ae21-bd7b00fb3829",
   "metadata": {},
   "outputs": [],
   "source": [
    "d = {'col1': [1, 2], 'col2': [3, 4]}\n",
    "df = pd.DataFrame(data=d)\n",
    "df"
   ]
  },
  {
   "cell_type": "markdown",
   "id": "6906101b-9baa-44b2-bfa5-363ef784d286",
   "metadata": {},
   "source": [
    "# 2. 生成csv文件\n",
    "https://pandas.pydata.org/docs/user_guide/io.html#io-store-in-csv"
   ]
  },
  {
   "cell_type": "code",
   "execution_count": null,
   "id": "349fddbc-f86d-468a-a3cd-371980171ce6",
   "metadata": {},
   "outputs": [],
   "source": [
    "data1 = [\"小明\", 20] # 以list 存储每一行的数据\n",
    "data2 = [\"小雨\", 21]\n",
    "data3 = [\"小花\", 22]\n",
    "header = [\"姓名\", \"年龄\"]\n",
    "df = pd.DataFrame([data1, data2, data3], columns=header) # 组成一个csv\n",
    "# index=False表示不生成行号\n",
    "df.to_csv(\"./mydata.csv\", index=False)"
   ]
  },
  {
   "cell_type": "markdown",
   "id": "5aeda1dd-12b5-48d7-8a72-cce7b1e35423",
   "metadata": {},
   "source": [
    "# 4. 读取csv文件\n",
    "https://pandas.pydata.org/docs/user_guide/io.html#io-read-csv-table"
   ]
  },
  {
   "cell_type": "code",
   "execution_count": null,
   "id": "258fe28e-439e-47e1-9096-edb749d92b1b",
   "metadata": {},
   "outputs": [],
   "source": [
    "csv_datas = pd.read_csv('./mydata.csv')\n",
    "print(type(csv_datas))\n",
    "csv_datas.head()"
   ]
  },
  {
   "cell_type": "markdown",
   "id": "0f8b91a8-296f-4cfa-8e8c-535e267414de",
   "metadata": {},
   "source": [
    "# 5. 取单列或者多列的值\n",
    "列值的类型为pandas.core.series.Series"
   ]
  },
  {
   "cell_type": "code",
   "execution_count": null,
   "id": "14e32078-fd34-4c5b-9d7a-c68fe0c215b4",
   "metadata": {},
   "outputs": [],
   "source": [
    "# 取单列的值\n",
    "data1 = [\"小明\", 20] # 以list 存储每一行的数据\n",
    "data2 = [\"小雨\", 21]\n",
    "data3 = [\"小花\", 22]\n",
    "header = [\"姓名\", \"年龄\"]\n",
    "df = pd.DataFrame([data1, data2, data3], columns=header) # 组成一个csv\n",
    "names = df[\"姓名\"]\n",
    "print(type(names))\n",
    "print(names)\n",
    "print(names.index)"
   ]
  },
  {
   "cell_type": "code",
   "execution_count": null,
   "id": "af53e32b-e19e-4166-a091-6570617a79a3",
   "metadata": {},
   "outputs": [],
   "source": [
    "# 取多列的值\n",
    "data1 = [\"小明\", 20] # 以list 存储每一行的数据\n",
    "data2 = [\"小雨\", 21]\n",
    "data3 = [\"小花\", 22]\n",
    "header = [\"姓名\", \"年龄\"]\n",
    "df = pd.DataFrame([data1, data2, data3], columns=header) # 组成一个csv\n",
    "# 和上面的例子不同的是，参数是字段数组\n",
    "names = df[[\"姓名\"]]\n",
    "print(type(names))\n",
    "print(names)\n",
    "print(names.index)"
   ]
  },
  {
   "cell_type": "markdown",
   "id": "25089fdb-2c6c-4cd2-bed8-70160450aa30",
   "metadata": {},
   "source": [
    "# 6. pandas.core.series.Series\n",
    "https://pandas.pydata.org/docs/user_guide/dsintro.html#series"
   ]
  },
  {
   "cell_type": "code",
   "execution_count": null,
   "id": "2c4d1cea-fa52-4e55-af8d-5464cf164a65",
   "metadata": {},
   "outputs": [],
   "source": [
    "# 从数组创建\n",
    "s = pd.Series([2,4,6,8,10], index=[\"a\", \"b\", \"c\", \"d\", \"e\"],name=\"something\")\n",
    "print(type(s))\n",
    "s"
   ]
  },
  {
   "cell_type": "code",
   "execution_count": null,
   "id": "f5c02d6c-3d85-44b6-a4cc-d01eba8f9db8",
   "metadata": {},
   "outputs": [],
   "source": [
    "# 从np数组创建\n",
    "s = pd.Series(np.random.randn(5), index=[\"a\", \"b\", \"c\", \"d\", \"e\"])\n",
    "s"
   ]
  },
  {
   "cell_type": "markdown",
   "id": "0acdf10a-ac9a-4f87-b83a-5753f39182a0",
   "metadata": {},
   "source": [
    "# 7. Series is ndarray-like\n",
    "可以像使用ndarray一样使用series\n",
    "\n",
    "https://pandas.pydata.org/docs/user_guide/dsintro.html#series-is-ndarray-like"
   ]
  },
  {
   "cell_type": "code",
   "execution_count": null,
   "id": "246a2ea5-a7d5-458c-9cbd-6ef799f3a8e1",
   "metadata": {},
   "outputs": [],
   "source": [
    "s[0]"
   ]
  },
  {
   "cell_type": "markdown",
   "id": "61da8a5f-66f9-42b7-97c5-b6ecf509cfbc",
   "metadata": {},
   "source": [
    "# 8. get_dummies\n",
    "https://pandas.pydata.org/docs/reference/api/pandas.get_dummies.html"
   ]
  },
  {
   "cell_type": "code",
   "execution_count": null,
   "id": "2b7da881-287a-4c91-80e7-f43e15e0e538",
   "metadata": {},
   "outputs": [],
   "source": [
    "s = pd.Series(list('abca'))\n",
    "pd.get_dummies(s)"
   ]
  },
  {
   "cell_type": "code",
   "execution_count": null,
   "id": "18a154ac-7d2c-44d0-8699-198f4cfc1ec2",
   "metadata": {},
   "outputs": [],
   "source": [
    "s=['a','b','c','a']\n",
    "d = pd.get_dummies(s,prefix='type_')\n",
    "print(type(d))\n",
    "d.head()"
   ]
  },
  {
   "cell_type": "markdown",
   "id": "8622e8e7-9b66-4a10-becd-6346442508d5",
   "metadata": {},
   "source": [
    "# 9. concat\n",
    "连接多个对象，对象可以是Series or DataFrame \n",
    "\n",
    "axis{0/’index’, 1/’columns’}, default 0\n",
    "\n",
    "https://pandas.pydata.org/docs/reference/api/pandas.concat.html"
   ]
  },
  {
   "cell_type": "code",
   "execution_count": null,
   "id": "034b53b8-380a-4494-8171-8381e77d90b5",
   "metadata": {},
   "outputs": [],
   "source": [
    "# 按行串起来,结果是Series\n",
    "s1 = pd.Series(['a', 'b'])\n",
    "s2 = pd.Series(['c', 'd'])\n",
    "d = pd.concat([s1, s2])\n",
    "print(type(d))\n",
    "print(d)"
   ]
  },
  {
   "cell_type": "code",
   "execution_count": null,
   "id": "4af9c60e-c3f7-4077-989a-a523d42a6b01",
   "metadata": {},
   "outputs": [],
   "source": [
    "# 按行串起来，结果是DataFrame\n",
    "s1 = pd.Series(['a', 'b'],name=\"name\")\n",
    "s2 = pd.Series(['c', 'd'],name=\"age\")\n",
    "d = pd.concat([s1, s2], axis=1)\n",
    "print(type(d))\n",
    "print(d)"
   ]
  },
  {
   "cell_type": "markdown",
   "id": "bb7259ef-9039-40f8-9e39-69b905a3b337",
   "metadata": {},
   "source": [
    "# 10. drop\n",
    "删除行或者列，axis=1表示列\n",
    "\n",
    "返回拷贝还是直接操作此对象，由inplace属性决定\n",
    "inplace bool, default False\n",
    "If False, return a copy. Otherwise, do operation inplace and return None.\n",
    "\n",
    "https://pandas.pydata.org/docs/reference/api/pandas.DataFrame.drop.html"
   ]
  },
  {
   "cell_type": "code",
   "execution_count": null,
   "id": "a762acb8-af67-4e7a-9b42-21d84d3c65d3",
   "metadata": {},
   "outputs": [],
   "source": [
    "df = pd.DataFrame(np.arange(12).reshape(3, 4),\n",
    "                  columns=['A', 'B', 'C', 'D'])\n",
    "print(df)\n",
    "df2 = df.drop(['B', 'C'], axis=1)\n",
    "print(df2)"
   ]
  },
  {
   "cell_type": "markdown",
   "id": "d2000e6d-4c85-4d26-b795-1ba8d3e9db90",
   "metadata": {},
   "source": [
    "# 11. loc属性\n",
    "https://pandas.pydata.org/docs/reference/api/pandas.DataFrame.loc.html\n",
    "\n",
    "可以按行或列过滤数据\n",
    "## 获取一行数据\n",
    "Single label. Note this returns the row as a Series.\n"
   ]
  },
  {
   "cell_type": "code",
   "execution_count": null,
   "id": "32c34099-b050-42aa-ba70-2bf1cf6b671e",
   "metadata": {},
   "outputs": [],
   "source": [
    "# 获取一行数据\n",
    "df = pd.DataFrame([[1, 2], [4, 5], [7, 8]],\n",
    "     index=['cobra', 'viper', 'sidewinder'],\n",
    "     columns=['max_speed', 'shield'])\n",
    "print(df.head())"
   ]
  },
  {
   "cell_type": "code",
   "execution_count": null,
   "id": "4edd97fb-b9d1-42da-8c3c-b365cd8231bf",
   "metadata": {},
   "outputs": [],
   "source": [
    "# 获取一行数据\n",
    "row = df.loc['viper']\n",
    "print(row)\n",
    "print(type(row))"
   ]
  },
  {
   "cell_type": "markdown",
   "id": "9930156c-a677-471d-8ed0-97a3cebb7c29",
   "metadata": {},
   "source": [
    "## 获取某些行，作为DataFrame返回，类似过滤行\n",
    "List of labels. Note using [[]] returns a DataFrame.\n",
    "\n"
   ]
  },
  {
   "cell_type": "code",
   "execution_count": null,
   "id": "5f99a038-ea75-4b3c-9289-b4eecf3370a8",
   "metadata": {},
   "outputs": [],
   "source": [
    "df.loc[['viper', 'sidewinder']]"
   ]
  },
  {
   "cell_type": "markdown",
   "id": "927f807c-fe78-4646-9cc1-1e4561a3f5f7",
   "metadata": {},
   "source": [
    "## 获取某些行的某列"
   ]
  },
  {
   "cell_type": "code",
   "execution_count": null,
   "id": "108d0c8a-a1f7-4c7c-8a43-5047d9e7d212",
   "metadata": {},
   "outputs": [],
   "source": [
    "df.loc['cobra':'viper', 'max_speed']"
   ]
  },
  {
   "cell_type": "markdown",
   "id": "2e58961c-2d03-4963-852a-59ff4f23c0c0",
   "metadata": {},
   "source": [
    "## 获取所有行的某列"
   ]
  },
  {
   "cell_type": "code",
   "execution_count": null,
   "id": "47c708bd-1a7d-4c0e-a072-1928b8ac6039",
   "metadata": {},
   "outputs": [],
   "source": [
    "# 这个和df['max_speed']是一样的\n",
    "v=df.loc[:, 'max_speed']\n",
    "print(type(v))\n",
    "print(v)"
   ]
  },
  {
   "cell_type": "markdown",
   "id": "2857481d-319b-44ac-8355-310a73165c7e",
   "metadata": {},
   "source": [
    "## 获取所有行的多个列"
   ]
  },
  {
   "cell_type": "code",
   "execution_count": null,
   "id": "2ef87d2b-22a2-4315-b3f6-f0f9a1d87208",
   "metadata": {},
   "outputs": [],
   "source": [
    "v=df.loc[:, ['max_speed']]\n",
    "print(type(v))\n",
    "print(v)"
   ]
  },
  {
   "cell_type": "markdown",
   "id": "d9daa717-c2f6-4c0b-9289-c4bac6d39c98",
   "metadata": {},
   "source": [
    "# 12. values属性\n",
    "将DataFrame中的数据变为numpy数组\n",
    "\n",
    "https://pandas.pydata.org/docs/reference/api/pandas.DataFrame.values.html"
   ]
  },
  {
   "cell_type": "markdown",
   "id": "5a14136b-20d0-47e2-82f2-43577038c411",
   "metadata": {},
   "source": []
  },
  {
   "cell_type": "code",
   "execution_count": null,
   "id": "2bf5531d-a8e5-4de2-8286-4f5a53ccdb32",
   "metadata": {},
   "outputs": [],
   "source": [
    "df = pd.DataFrame({'age':    [ 3,  29],\n",
    "                   'height': [94, 170],\n",
    "                   'weight': [31, 115]})\n",
    "print(df)"
   ]
  },
  {
   "cell_type": "code",
   "execution_count": null,
   "id": "eee78dcf-7380-4458-baf7-dc2619d49cc6",
   "metadata": {},
   "outputs": [],
   "source": [
    "print(df.values)"
   ]
  },
  {
   "cell_type": "code",
   "execution_count": null,
   "id": "b9a29bd5-6ea6-4b6f-98b5-c36f2ccedca9",
   "metadata": {},
   "outputs": [],
   "source": [
    "print(type(df.values))"
   ]
  },
  {
   "cell_type": "markdown",
   "id": "4c34ab0f-7051-4126-9d38-73223854c769",
   "metadata": {},
   "source": [
    "# 13. to_datetime\n",
    "将数据转换为datetime\n",
    "\n",
    "https://pandas.pydata.org/docs/reference/api/pandas.to_datetime.html"
   ]
  },
  {
   "cell_type": "code",
   "execution_count": 21,
   "id": "27f33b1f-233d-48fd-a1c4-54049b517b47",
   "metadata": {},
   "outputs": [
    {
     "name": "stdout",
     "output_type": "stream",
     "text": [
      "     dteday  cnt\n",
      "0  2011/1/1    3\n",
      "1  2011/1/2    4\n",
      "2  2011/1/3    5\n",
      "3  2011/1/4    6\n"
     ]
    }
   ],
   "source": [
    "# 创建DataFrame\n",
    "d = {'dteday': ['2011/1/1','2011/1/2','2011/1/3','2011/1/4'], 'cnt': [3, 4,5,6]}\n",
    "df = pd.DataFrame(data=d)\n",
    "print(df)"
   ]
  },
  {
   "cell_type": "code",
   "execution_count": 22,
   "id": "a52d38d9-9edc-4674-bcbf-f73fa4045a5e",
   "metadata": {},
   "outputs": [
    {
     "name": "stdout",
     "output_type": "stream",
     "text": [
      "0    2011/1/1\n",
      "1    2011/1/2\n",
      "2    2011/1/3\n",
      "3    2011/1/4\n",
      "Name: dteday, dtype: object\n",
      "<class 'pandas.core.series.Series'>\n"
     ]
    }
   ],
   "source": [
    "# 获得一个Series，它的item类型是object\n",
    "dte = df.loc[df.index]['dteday']\n",
    "print(dte)\n",
    "print(type(dte))"
   ]
  },
  {
   "cell_type": "code",
   "execution_count": 23,
   "id": "f57259c6-7400-43f7-a8c8-cbba437ab123",
   "metadata": {},
   "outputs": [
    {
     "name": "stdout",
     "output_type": "stream",
     "text": [
      "0   2011-01-01\n",
      "1   2011-01-02\n",
      "2   2011-01-03\n",
      "3   2011-01-04\n",
      "Name: dteday, dtype: datetime64[ns]\n",
      "<class 'pandas.core.series.Series'>\n"
     ]
    }
   ],
   "source": [
    "# 转换为另一个Series，它的item类型是datetime64\n",
    "dates = pd.to_datetime(dte)\n",
    "print(dates)\n",
    "print(type(dates))"
   ]
  },
  {
   "cell_type": "markdown",
   "id": "d61067bc-acea-448d-b04a-f1836241286d",
   "metadata": {},
   "source": [
    "# 13. Timestamp.strftime\n",
    "https://pandas.pydata.org/docs/reference/api/pandas.Timestamp.strftime.html?highlight=strftime#pandas.Timestamp.strftime\n",
    "\n"
   ]
  },
  {
   "cell_type": "code",
   "execution_count": 29,
   "id": "45641a46-feb1-4096-b9e2-cab87478db97",
   "metadata": {},
   "outputs": [
    {
     "name": "stdout",
     "output_type": "stream",
     "text": [
      "<class 'pandas._libs.tslibs.timestamps.Timestamp'>\n",
      "<class 'pandas._libs.tslibs.timestamps.Timestamp'>\n",
      "<class 'pandas._libs.tslibs.timestamps.Timestamp'>\n",
      "<class 'pandas._libs.tslibs.timestamps.Timestamp'>\n",
      "0    Jan 01\n",
      "1    Jan 02\n",
      "2    Jan 03\n",
      "3    Jan 04\n",
      "Name: dteday, dtype: object\n"
     ]
    }
   ],
   "source": [
    "# https://docs.python.org/3/library/datetime.html#strftime-and-strptime-behavior\n",
    "# %b的含义：Month as locale’s abbreviated name.\n",
    "# %d的含义：Day of the month as a zero-padded decimal number.\n",
    "def ele(d):\n",
    "    print(type(d))\n",
    "    return d.strftime('%b %d')\n",
    "d2 = dates.apply(ele)\n",
    "print(d2)"
   ]
  },
  {
   "cell_type": "markdown",
   "id": "4b8df9a3-de29-45fa-9d14-39c7bc35fed0",
   "metadata": {},
   "source": [
    "# 14. Series.apply\n",
    "https://pandas.pydata.org/docs/reference/api/pandas.Series.apply.html"
   ]
  },
  {
   "cell_type": "code",
   "execution_count": 18,
   "id": "8d3eb78e-ad33-464d-8c99-ad1f9b72d6c1",
   "metadata": {},
   "outputs": [
    {
     "name": "stdout",
     "output_type": "stream",
     "text": [
      "London      20\n",
      "New York    21\n",
      "Helsinki    12\n",
      "dtype: int64\n",
      "London      400\n",
      "New York    441\n",
      "Helsinki    144\n",
      "dtype: int64\n",
      "London      400\n",
      "New York    441\n",
      "Helsinki    144\n",
      "dtype: int64\n"
     ]
    }
   ],
   "source": [
    "s = pd.Series([20, 21, 12],\n",
    "              index=['London', 'New York', 'Helsinki'])\n",
    "def square(x):\n",
    "    return x ** 2\n",
    "s1 = s.apply(square)\n",
    "s2 = s.apply(lambda x: x ** 2)\n",
    "print(s)\n",
    "print(s1)\n",
    "print(s2)\n"
   ]
  },
  {
   "cell_type": "code",
   "execution_count": null,
   "id": "f400d4e2-f0f4-4bcf-adac-92e6df0250a5",
   "metadata": {},
   "outputs": [],
   "source": []
  }
 ],
 "metadata": {
  "kernelspec": {
   "display_name": "Python 3 (ipykernel)",
   "language": "python",
   "name": "python3"
  },
  "language_info": {
   "codemirror_mode": {
    "name": "ipython",
    "version": 3
   },
   "file_extension": ".py",
   "mimetype": "text/x-python",
   "name": "python",
   "nbconvert_exporter": "python",
   "pygments_lexer": "ipython3",
   "version": "3.10.9"
  }
 },
 "nbformat": 4,
 "nbformat_minor": 5
}
