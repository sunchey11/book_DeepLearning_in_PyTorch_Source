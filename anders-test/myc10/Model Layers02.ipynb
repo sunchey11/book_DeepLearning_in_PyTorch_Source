{
 "cells": [
  {
   "cell_type": "markdown",
   "id": "e6d6cbf8-cb01-4f7b-b179-2d7d16050939",
   "metadata": {},
   "source": [
    "# Model Layers 之二\n",
    "Model Layers第一部分的笔记在\n",
    "\n",
    "anders-test/basics/04-buildmodel_tutorial.ipynb\n",
    "\n",
    "的Model Layers部分，主要描述基本的神经网络的Layer组件\n",
    "\n",
    "此部分主要描述rnn用到的Layer组件"
   ]
  },
  {
   "cell_type": "code",
   "execution_count": 2,
   "id": "6a4ca6f2-6659-4728-ac01-2e20e93527f1",
   "metadata": {},
   "outputs": [],
   "source": [
    "# 导入程序所需要的程序包\n",
    "\n",
    "#PyTorch用的包\n",
    "import torch\n",
    "import torch.nn as nn\n",
    "import torch.optim\n",
    "\n",
    "from collections import Counter #搜集器，可以让统计词频更简单\n",
    "\n",
    "#绘图、计算用的程序包\n",
    "import matplotlib\n",
    "import matplotlib.pyplot as plt\n",
    "from matplotlib import rc\n",
    "import numpy as np"
   ]
  },
  {
   "cell_type": "markdown",
   "id": "cf0f79f8-fb9a-4a73-9991-706dc54c1f86",
   "metadata": {},
   "source": [
    "# nn.Embedding\n",
    "\n",
    "https://pytorch.org/docs/stable/generated/torch.nn.Embedding.html?highlight=embedding#torch.nn.Embedding\n",
    "\n",
    "下面这篇文章讲了用法，看得不是特别懂\n",
    "\n",
    "https://blog.csdn.net/qq_41477675/article/details/114645012"
   ]
  },
  {
   "cell_type": "code",
   "execution_count": 9,
   "id": "fc6b8dfa-f844-4df3-9514-d99cede42f62",
   "metadata": {},
   "outputs": [
    {
     "name": "stdout",
     "output_type": "stream",
     "text": [
      "Parameter containing:\n",
      "tensor([[-0.2075,  1.2400, -1.4663],\n",
      "        [-1.4736, -0.7501, -1.5635],\n",
      "        [-0.1566,  0.0823, -0.5093],\n",
      "        [-0.1393,  0.2986,  0.9383],\n",
      "        [-0.6688, -0.8318, -0.1951],\n",
      "        [ 0.7724,  0.4891, -1.2531],\n",
      "        [ 0.4961, -0.3942,  1.3848],\n",
      "        [ 0.7122, -0.7672, -0.4191],\n",
      "        [ 0.2549,  1.4342,  0.0022],\n",
      "        [-1.7566, -1.2855,  0.9330]], requires_grad=True)\n"
     ]
    }
   ],
   "source": [
    "# an Embedding module containing 10 tensors of size 3\n",
    "embedding = nn.Embedding(10, 3)\n",
    "# weight存储了20条数据，每条数据是size=3的数组\n",
    "print(embedding.weight)"
   ]
  },
  {
   "cell_type": "code",
   "execution_count": 14,
   "id": "dcc1784e-ce77-4066-a5fa-dad6b8449351",
   "metadata": {},
   "outputs": [
    {
     "name": "stdout",
     "output_type": "stream",
     "text": [
      "tensor([[[-1.4736, -0.7501, -1.5635],\n",
      "         [-0.1566,  0.0823, -0.5093],\n",
      "         [-0.6688, -0.8318, -0.1951],\n",
      "         [ 0.7724,  0.4891, -1.2531]],\n",
      "\n",
      "        [[-0.6688, -0.8318, -0.1951],\n",
      "         [-0.1393,  0.2986,  0.9383],\n",
      "         [-0.1566,  0.0823, -0.5093],\n",
      "         [-1.7566, -1.2855,  0.9330]]], grad_fn=<EmbeddingBackward0>)\n"
     ]
    }
   ],
   "source": [
    "# a batch of 2 samples of 4 indices each\n",
    "input = torch.LongTensor([[1, 2, 4, 5], [4, 3, 2, 9]])\n",
    "out = embedding(input)\n",
    "# 将索引变为weight对应的数组\n",
    "print(out)"
   ]
  },
  {
   "cell_type": "code",
   "execution_count": 17,
   "id": "fd1bc6e0-2636-4617-94ea-0b8dbd1da890",
   "metadata": {},
   "outputs": [
    {
     "name": "stdout",
     "output_type": "stream",
     "text": [
      "tensor([[-1.4736, -0.7501, -1.5635],\n",
      "        [-0.1566,  0.0823, -0.5093],\n",
      "        [-0.6688, -0.8318, -0.1951],\n",
      "        [ 0.7724,  0.4891, -1.2531]], grad_fn=<EmbeddingBackward0>)\n"
     ]
    }
   ],
   "source": [
    "# 1维的可以\n",
    "input = torch.LongTensor([1, 2, 4, 5])\n",
    "out = embedding(input)\n",
    "print(out)"
   ]
  },
  {
   "cell_type": "code",
   "execution_count": 16,
   "id": "2933f163-da6b-4fdb-96bd-e383e4609e83",
   "metadata": {},
   "outputs": [
    {
     "name": "stdout",
     "output_type": "stream",
     "text": [
      "tensor([[[[-1.4736, -0.7501, -1.5635],\n",
      "          [-0.1566,  0.0823, -0.5093]],\n",
      "\n",
      "         [[-0.6688, -0.8318, -0.1951],\n",
      "          [ 0.7724,  0.4891, -1.2531]]],\n",
      "\n",
      "\n",
      "        [[[-0.6688, -0.8318, -0.1951],\n",
      "          [-0.1393,  0.2986,  0.9383]],\n",
      "\n",
      "         [[-0.1566,  0.0823, -0.5093],\n",
      "          [-1.7566, -1.2855,  0.9330]]]], grad_fn=<EmbeddingBackward0>)\n"
     ]
    }
   ],
   "source": [
    "# 3维的也可以\n",
    "input = torch.LongTensor([[[1, 2], [4, 5]], [[4, 3], [2, 9]]])\n",
    "out = embedding(input)\n",
    "# 将索引变为weight对应的数组\n",
    "print(out)"
   ]
  },
  {
   "cell_type": "markdown",
   "id": "f8468d1a-8e12-45ac-9e95-8ac38594bfa6",
   "metadata": {},
   "source": [
    "# nn.RNN\n",
    "https://pytorch.org/docs/stable/generated/torch.nn.RNN.html\n"
   ]
  },
  {
   "cell_type": "code",
   "execution_count": 29,
   "id": "ae187792-d649-40b6-8034-65d938747951",
   "metadata": {},
   "outputs": [
    {
     "name": "stdout",
     "output_type": "stream",
     "text": [
      "tensor([[-4.9338e-01,  3.7022e-03,  1.3726e+00,  8.7226e-01, -1.6057e+00,\n",
      "          1.2904e+00,  6.2513e-01,  5.4893e-01,  7.7695e-01,  5.5325e-01],\n",
      "        [ 1.6297e-01, -5.5922e-01,  5.6360e-01, -5.1773e-01,  1.1935e+00,\n",
      "         -2.8345e-01,  2.2670e+00,  7.4588e-01,  2.0257e+00,  6.9097e-01],\n",
      "        [-1.4368e+00, -1.3536e+00, -1.0331e+00,  1.7335e-01,  2.6637e-01,\n",
      "         -9.0333e-01, -4.0994e-01, -5.8604e-01,  8.2222e-01, -7.6230e-01],\n",
      "        [-1.6917e+00,  4.6187e-01,  4.1468e+00,  1.2293e+00,  1.4621e+00,\n",
      "         -6.3196e-01,  9.2742e-01,  8.2235e-01, -5.6722e-01,  4.7417e-01],\n",
      "        [-1.3807e+00,  9.1801e-01, -8.1305e-01,  1.8950e-01, -3.6900e-01,\n",
      "          4.1568e-02, -1.6230e+00,  1.6472e+00,  1.3082e+00, -1.8331e+00]])\n"
     ]
    }
   ],
   "source": [
    "# 看不懂，只是字面上的一些猜测\n",
    "# 1.input size = 10, hidden size = 20 ,layers = 2\n",
    "#   输入数据的节点数为10，类似神经网络的输入，两个隐含层，每个隐含层20个节点，那输出层节点数量怎么没有定义？\n",
    "rnn = nn.RNN(10, 20, 2)\n",
    "input = torch.randn(5, 10)\n",
    "print(input)"
   ]
  },
  {
   "cell_type": "code",
   "execution_count": 41,
   "id": "2d862915-6d91-4c8b-ba91-bcd6022d709c",
   "metadata": {},
   "outputs": [
    {
     "name": "stdout",
     "output_type": "stream",
     "text": [
      "torch.Size([5, 20])\n"
     ]
    }
   ],
   "source": [
    "# 我猜的：这是隐含层的数据，必须是两个隐含层，每个隐含层20个节点，和上面rnn的定义是对应的\n",
    "h0 = torch.randn(2, 20)\n",
    "output, hn = rnn(input, h0)\n",
    "# 输出的数据节点数，变成了隐含层的数量\n",
    "print(output.shape)"
   ]
  },
  {
   "cell_type": "code",
   "execution_count": 42,
   "id": "e025f5bd-92ee-496a-b366-ef637a4756e4",
   "metadata": {},
   "outputs": [
    {
     "name": "stdout",
     "output_type": "stream",
     "text": [
      "torch.Size([2, 20])\n",
      "tensor([[-0.2443, -1.1628, -1.1109, -0.9333, -0.2296, -0.5836,  0.4364,  0.8991,\n",
      "          0.1694,  0.3182, -1.4104,  0.0568,  0.2098, -0.5805, -0.0537,  1.0404,\n",
      "         -0.0365,  0.5585,  1.1958, -1.4516],\n",
      "        [ 0.4240,  1.1509,  0.6385, -0.7588, -0.7377,  0.0036, -0.3537,  0.4396,\n",
      "         -1.0393,  0.5925,  1.3591, -0.6779,  1.4081,  0.6752,  0.1576,  0.0372,\n",
      "          1.7420, -0.9438, -0.8772,  0.2320]])\n",
      "tensor([[ 0.2007,  0.6427, -0.6075,  0.2654,  0.5296,  0.1560, -0.0102,  0.3019,\n",
      "         -0.2374,  0.6755,  0.0437,  0.1511,  0.3099,  0.7050, -0.1627, -0.2532,\n",
      "          0.6013,  0.4019, -0.6291, -0.4952],\n",
      "        [ 0.0724, -0.1898,  0.2909,  0.1954, -0.3370, -0.0911, -0.5759, -0.0946,\n",
      "         -0.2182, -0.7548,  0.1710,  0.8660, -0.3704, -0.2506,  0.1434, -0.2550,\n",
      "         -0.3803,  0.1574, -0.0298, -0.3461]], grad_fn=<SqueezeBackward1>)\n"
     ]
    }
   ],
   "source": [
    "# 输出的隐含层shape没有变，但是数据变了\n",
    "print(hn.shape)\n",
    "print(h0)\n",
    "print(hn)"
   ]
  },
  {
   "cell_type": "code",
   "execution_count": 48,
   "id": "ba6494b6-626f-4725-81d0-f2413099fbcf",
   "metadata": {},
   "outputs": [
    {
     "name": "stdout",
     "output_type": "stream",
     "text": [
      "torch.Size([5, 3, 20])\n",
      "torch.Size([2, 3, 20])\n"
     ]
    }
   ],
   "source": [
    "# 官网的例子\n",
    "# input size = 10, hidden size = 20 ,layers = 2\n",
    "rnn = nn.RNN(10, 20, 2)\n",
    "# 5条数据，10个节点，3是啥？\n",
    "input = torch.randn(5, 3, 10)\n",
    "# 2个隐含层，每个隐含层20个节点，3是啥？要跟上面的那个3对应\n",
    "h0 = torch.randn(2, 3, 20)\n",
    "output, hn = rnn(input, h0)\n",
    "print(output.shape)\n",
    "print(hn.shape)"
   ]
  },
  {
   "cell_type": "markdown",
   "id": "895cd3b6-071c-4633-9134-2c425143d802",
   "metadata": {},
   "source": [
    "# nn.InstanceNorm2d\n",
    "https://pytorch.org/docs/stable/generated/torch.nn.InstanceNorm2d.html?highlight=instancenorm2d#torch.nn.InstanceNorm2d\n",
    "\n",
    "看不懂，下面的例子我也看不懂"
   ]
  },
  {
   "cell_type": "code",
   "execution_count": 3,
   "id": "771b7469-bf9b-48c5-86f1-c7da1644a97a",
   "metadata": {},
   "outputs": [
    {
     "name": "stdout",
     "output_type": "stream",
     "text": [
      "torch.Size([20, 100, 35, 45])\n"
     ]
    }
   ],
   "source": [
    "# Without Learnable Parameters\n",
    "m = nn.InstanceNorm2d(100)\n",
    "# With Learnable Parameters\n",
    "m = nn.InstanceNorm2d(100, affine=True)\n",
    "input = torch.randn(20, 100, 35, 45)\n",
    "output = m(input)\n",
    "print(output.shape)"
   ]
  },
  {
   "cell_type": "markdown",
   "id": "03ebf19b-6571-4c54-ad17-4ffd163976ed",
   "metadata": {},
   "source": [
    "# F.relu\n",
    "只是将负值变为0，所以shape不变\n",
    "        "
   ]
  },
  {
   "cell_type": "markdown",
   "id": "554180f0-04bb-4350-9943-9df21aad450c",
   "metadata": {},
   "source": [
    "# F.LeakyReLU\n",
    "https://pytorch.org/docs/stable/generated/torch.nn.LeakyReLU.html\n",
    "\n",
    "应该和F.relu类似吧"
   ]
  },
  {
   "cell_type": "code",
   "execution_count": null,
   "id": "27921a36-1063-4a3b-836f-99235271e327",
   "metadata": {},
   "outputs": [],
   "source": []
  }
 ],
 "metadata": {
  "kernelspec": {
   "display_name": "Python 3 (ipykernel)",
   "language": "python",
   "name": "python3"
  },
  "language_info": {
   "codemirror_mode": {
    "name": "ipython",
    "version": 3
   },
   "file_extension": ".py",
   "mimetype": "text/x-python",
   "name": "python",
   "nbconvert_exporter": "python",
   "pygments_lexer": "ipython3",
   "version": "3.10.9"
  }
 },
 "nbformat": 4,
 "nbformat_minor": 5
}
