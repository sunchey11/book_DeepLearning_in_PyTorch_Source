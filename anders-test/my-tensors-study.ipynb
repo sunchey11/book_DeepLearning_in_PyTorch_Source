{
 "cells": [
  {
   "cell_type": "markdown",
   "id": "0b98618f-f119-499c-b541-454cbe08ee72",
   "metadata": {},
   "source": [
    "# Anders的Tensor总结"
   ]
  },
  {
   "cell_type": "markdown",
   "id": "b1e6967d-10ff-40ac-a506-e34a20d26495",
   "metadata": {},
   "source": [
    "## 参考资料\n",
    "    PyTorch官方教程中文版的PyTorch入门-->Tensors (张量)  不知道是不是官方，在官方没找到这个对应的内容\n",
    "    https://www.pytorch123.com/SecondSection/what_is_pytorch/\n",
    "    \n",
    "    深度学习原理与pytorch实战(第2版）的第二章\n",
    "    https://weread.qq.com/web/reader/b8c323d0813ab752fg0146c9k8f132430178f14e45fce0f7\n",
    "\n",
    "    笔记：https://docs.qq.com/doc/DVXJQWkl5bVF3WUJD\n",
    "    \n",
    "\n"
   ]
  },
  {
   "cell_type": "code",
   "execution_count": 1,
   "id": "c8e0aa45-414e-4524-b244-f34bbd1f5815",
   "metadata": {},
   "outputs": [],
   "source": [
    "import torch"
   ]
  },
  {
   "cell_type": "code",
   "execution_count": 3,
   "id": "1f7a4226-a617-44ff-83db-2eeea5668d19",
   "metadata": {},
   "outputs": [
    {
     "name": "stdout",
     "output_type": "stream",
     "text": [
      "tensor([[[2.1715e-18, 1.8888e+31, 4.7414e+16],\n",
      "         [2.4754e-12, 2.4754e-12, 7.8447e+17],\n",
      "         [2.0190e-19, 1.3563e-19, 4.5071e+16],\n",
      "         [1.4584e-19, 1.4584e-19, 3.1432e-12],\n",
      "         [1.3589e-19, 1.3563e-19, 7.9717e-10]],\n",
      "\n",
      "        [[5.8270e-10, 5.8270e-10, 1.9406e+17],\n",
      "         [1.3563e-19, 1.3563e-19, 4.0099e-11],\n",
      "         [4.0046e-11, 4.0046e-11, 1.7035e+28],\n",
      "         [1.3563e-19, 1.3563e-19, 2.4754e-12],\n",
      "         [2.4754e-12, 7.8447e+17, 1.7034e+28]]])\n"
     ]
    }
   ],
   "source": [
    "x = torch.empty(2,5, 3)\n",
    "print(x)"
   ]
  },
  {
   "cell_type": "code",
   "execution_count": null,
   "id": "8a9b088e-f706-4f3a-a50c-4dc6e71baeeb",
   "metadata": {},
   "outputs": [],
   "source": []
  }
 ],
 "metadata": {
  "kernelspec": {
   "display_name": "Python 3 (ipykernel)",
   "language": "python",
   "name": "python3"
  },
  "language_info": {
   "codemirror_mode": {
    "name": "ipython",
    "version": 3
   },
   "file_extension": ".py",
   "mimetype": "text/x-python",
   "name": "python",
   "nbconvert_exporter": "python",
   "pygments_lexer": "ipython3",
   "version": "3.10.9"
  }
 },
 "nbformat": 4,
 "nbformat_minor": 5
}
