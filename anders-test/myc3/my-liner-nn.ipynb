{
 "cells": [
  {
   "cell_type": "markdown",
   "id": "783ef167-231c-451a-84c4-e28416c7634c",
   "metadata": {},
   "source": [
    "# 用神经网络预测线性函数的数据\n",
    "但是预测结果不对，不知道是为什么\n",
    "2023年6月28\n",
    "给数据加了标准化处理，就可以了"
   ]
  },
  {
   "cell_type": "code",
   "execution_count": 1,
   "id": "677dc7b1-0e1f-426c-aff5-15c07f3347f0",
   "metadata": {},
   "outputs": [],
   "source": [
    "#导入需要使用的库\n",
    "import numpy as np\n",
    "import pandas as pd #读取csv文件的库\n",
    "import matplotlib.pyplot as plt\n",
    "import torch\n",
    "import torch.optim as optim\n",
    "\n",
    "# 让输出的图形直接在Notebook中显示\n",
    "%matplotlib inline"
   ]
  },
  {
   "cell_type": "markdown",
   "id": "f4bd2bab-6294-45b5-913c-7598024d9cbb",
   "metadata": {},
   "source": [
    "## 1.读取数据"
   ]
  },
  {
   "cell_type": "code",
   "execution_count": 2,
   "id": "43f6babf-8504-46ac-aac6-f1cba9b1df4e",
   "metadata": {},
   "outputs": [
    {
     "name": "stdout",
     "output_type": "stream",
     "text": [
      "(200, 2)\n"
     ]
    },
    {
     "data": {
      "text/html": [
       "<div>\n",
       "<style scoped>\n",
       "    .dataframe tbody tr th:only-of-type {\n",
       "        vertical-align: middle;\n",
       "    }\n",
       "\n",
       "    .dataframe tbody tr th {\n",
       "        vertical-align: top;\n",
       "    }\n",
       "\n",
       "    .dataframe thead th {\n",
       "        text-align: right;\n",
       "    }\n",
       "</style>\n",
       "<table border=\"1\" class=\"dataframe\">\n",
       "  <thead>\n",
       "    <tr style=\"text-align: right;\">\n",
       "      <th></th>\n",
       "      <th>x</th>\n",
       "      <th>y</th>\n",
       "    </tr>\n",
       "  </thead>\n",
       "  <tbody>\n",
       "    <tr>\n",
       "      <th>0</th>\n",
       "      <td>1.0</td>\n",
       "      <td>99.033600</td>\n",
       "    </tr>\n",
       "    <tr>\n",
       "      <th>1</th>\n",
       "      <td>2.0</td>\n",
       "      <td>88.256410</td>\n",
       "    </tr>\n",
       "    <tr>\n",
       "      <th>2</th>\n",
       "      <td>3.0</td>\n",
       "      <td>97.706436</td>\n",
       "    </tr>\n",
       "    <tr>\n",
       "      <th>3</th>\n",
       "      <td>4.0</td>\n",
       "      <td>87.194520</td>\n",
       "    </tr>\n",
       "    <tr>\n",
       "      <th>4</th>\n",
       "      <td>5.0</td>\n",
       "      <td>99.721370</td>\n",
       "    </tr>\n",
       "    <tr>\n",
       "      <th>...</th>\n",
       "      <td>...</td>\n",
       "      <td>...</td>\n",
       "    </tr>\n",
       "    <tr>\n",
       "      <th>195</th>\n",
       "      <td>196.0</td>\n",
       "      <td>478.521580</td>\n",
       "    </tr>\n",
       "    <tr>\n",
       "      <th>196</th>\n",
       "      <td>197.0</td>\n",
       "      <td>493.444640</td>\n",
       "    </tr>\n",
       "    <tr>\n",
       "      <th>197</th>\n",
       "      <td>198.0</td>\n",
       "      <td>491.508000</td>\n",
       "    </tr>\n",
       "    <tr>\n",
       "      <th>198</th>\n",
       "      <td>199.0</td>\n",
       "      <td>495.742980</td>\n",
       "    </tr>\n",
       "    <tr>\n",
       "      <th>199</th>\n",
       "      <td>200.0</td>\n",
       "      <td>489.145170</td>\n",
       "    </tr>\n",
       "  </tbody>\n",
       "</table>\n",
       "<p>200 rows × 2 columns</p>\n",
       "</div>"
      ],
      "text/plain": [
       "         x           y\n",
       "0      1.0   99.033600\n",
       "1      2.0   88.256410\n",
       "2      3.0   97.706436\n",
       "3      4.0   87.194520\n",
       "4      5.0   99.721370\n",
       "..     ...         ...\n",
       "195  196.0  478.521580\n",
       "196  197.0  493.444640\n",
       "197  198.0  491.508000\n",
       "198  199.0  495.742980\n",
       "199  200.0  489.145170\n",
       "\n",
       "[200 rows x 2 columns]"
      ]
     },
     "execution_count": 2,
     "metadata": {},
     "output_type": "execute_result"
    }
   ],
   "source": [
    "#读取数据到内存中，rides为一个dataframe对象\n",
    "# 这个数据是由此代码生成的D:\\GitHub\\book_DeepLearning_in_PyTorch_Source\\anders-test\\myc3\\gen-data.py\n",
    "# 此代码可以显示此数据D:\\GitHub\\book_DeepLearning_in_PyTorch_Source\\anders-test\\myc3\\show-data.py\n",
    "data_path = 'liner-data1.csv'\n",
    "rides = pd.read_csv(data_path)\n",
    "\n",
    "print(rides.shape)\n",
    "rowCount = rides.shape[0]\n",
    "#看看数据长什么样子\n",
    "rides\n"
   ]
  },
  {
   "cell_type": "markdown",
   "id": "80a06241-1fb1-4609-af9a-61f846d24533",
   "metadata": {},
   "source": [
    "## 2.将数据转成numpy数组"
   ]
  },
  {
   "cell_type": "code",
   "execution_count": 3,
   "id": "a0aba9a3-2f6d-484f-9392-1884845bf13f",
   "metadata": {},
   "outputs": [],
   "source": [
    "xx_arr=rides.drop(['y'], axis=1).values\n",
    "\n",
    "# 数据标准化\n",
    "mean, std = xx_arr.mean(), xx_arr.std()\n",
    "xx_arr = (xx_arr - mean)/std\n",
    "\n",
    "# print(xx)\n",
    "yy_arr=rides.drop(['x'], axis=1).values\n",
    "ymean, ystd = yy_arr.mean(), yy_arr.std()\n",
    "yy_arr = (yy_arr - ymean)/ystd\n",
    "\n",
    "# print(yy)\n",
    "xx = torch.tensor(xx_arr, dtype = torch.float, requires_grad = True)\n",
    "yy = torch.tensor(yy_arr, dtype = torch.float, requires_grad = True)\n",
    "\n"
   ]
  },
  {
   "cell_type": "markdown",
   "id": "6bc04a56-9520-473f-8c2c-d4a23fea9e10",
   "metadata": {},
   "source": [
    "## 2.构建神经网络"
   ]
  },
  {
   "cell_type": "code",
   "execution_count": 4,
   "id": "78297e9e-4643-4d82-8254-a29d7685ef64",
   "metadata": {},
   "outputs": [],
   "source": [
    "# 调用PyTorch现成的函数，构建序列化的神经网络\n",
    "# 定义神经网络架构，1个输入层单元，1个隐含层，1个输出层\n",
    "input_size = 1\n",
    "hidden_size = 100\n",
    "output_size = 1\n",
    "\n",
    "# 神经网络\n",
    "neu = torch.nn.Sequential(\n",
    "    torch.nn.Linear(input_size, hidden_size),\n",
    "    torch.nn.Sigmoid(),\n",
    "    torch.nn.Linear(hidden_size, output_size),\n",
    ")\n",
    "\n",
    "# 损失函数\n",
    "cost = torch.nn.MSELoss()\n",
    "# PyTorch还自带了优化器来自动实现优化算法\n",
    "optimizer = torch.optim.SGD(neu.parameters(), lr = 0.01)\n",
    "dic = dict(neu.named_parameters()) \n",
    "# print(dic['0.weight'])\n",
    "# print(dic['0.bias'])\n",
    "\n",
    "\n",
    "# print(dic['2.weight'])\n",
    "# print(dic['2.bias'])"
   ]
  },
  {
   "cell_type": "markdown",
   "id": "8ebb1eb2-4adb-4eb7-b884-7b7a2249243c",
   "metadata": {},
   "source": [
    "## 3.训练"
   ]
  },
  {
   "cell_type": "code",
   "execution_count": 5,
   "id": "da6882d1-2215-4172-af26-030d4daa3021",
   "metadata": {},
   "outputs": [
    {
     "name": "stdout",
     "output_type": "stream",
     "text": [
      "0 1.4740313\n",
      "100 0.008977886\n",
      "200 0.0077755465\n",
      "300 0.0077642347\n",
      "400 0.0077544264\n",
      "500 0.0077449707\n",
      "600 0.0077358503\n",
      "700 0.007727042\n",
      "800 0.007718546\n",
      "900 0.0077103414\n",
      "1000 0.0077024098\n",
      "1100 0.0076947515\n",
      "1200 0.0076873493\n",
      "1300 0.007680188\n",
      "1400 0.007673262\n",
      "1500 0.0076665636\n",
      "1600 0.007660076\n",
      "1700 0.0076537947\n",
      "1800 0.0076477136\n",
      "1900 0.0076418174\n",
      "2000 0.0076361024\n",
      "2100 0.0076305587\n",
      "2200 0.0076251836\n",
      "2300 0.0076199686\n",
      "2400 0.007614907\n",
      "2500 0.0076099862\n",
      "2600 0.007605208\n",
      "2700 0.007600562\n",
      "2800 0.0075960415\n",
      "2900 0.0075916476\n",
      "3000 0.0075873686\n",
      "3100 0.007583203\n",
      "3200 0.0075791436\n",
      "3300 0.0075751897\n",
      "3400 0.007571335\n",
      "3500 0.0075675785\n",
      "3600 0.007563911\n",
      "3700 0.0075603295\n",
      "3800 0.007556834\n",
      "3900 0.0075534154\n",
      "4000 0.007550077\n",
      "4100 0.0075468104\n",
      "4200 0.007543617\n",
      "4300 0.0075404877\n",
      "4400 0.007537423\n",
      "4500 0.0075344252\n",
      "4600 0.0075314855\n",
      "4700 0.0075286026\n",
      "4800 0.0075257765\n",
      "4900 0.0075230016\n",
      "5000 0.007520278\n",
      "5100 0.007517604\n",
      "5200 0.007514977\n",
      "5300 0.0075123976\n",
      "5400 0.007509859\n",
      "5500 0.007507361\n",
      "5600 0.0075049032\n",
      "5700 0.007502482\n",
      "5800 0.0075001013\n",
      "5900 0.0074977577\n",
      "6000 0.0074954443\n",
      "6100 0.007493168\n",
      "6200 0.0074909204\n",
      "6300 0.007488704\n",
      "6400 0.007486518\n",
      "6500 0.0074843597\n",
      "6600 0.007482227\n",
      "6700 0.0074801217\n",
      "6800 0.007478041\n",
      "6900 0.007475983\n",
      "7000 0.0074739517\n",
      "7100 0.007471942\n",
      "7200 0.007469952\n",
      "7300 0.0074679814\n",
      "7400 0.0074660336\n",
      "7500 0.0074641053\n",
      "7600 0.007462195\n",
      "7700 0.0074603003\n",
      "7800 0.007458428\n",
      "7900 0.0074565727\n",
      "8000 0.0074547324\n",
      "8100 0.007452909\n",
      "8200 0.0074511026\n",
      "8300 0.007449307\n",
      "8400 0.0074475263\n",
      "8500 0.007445761\n",
      "8600 0.007444011\n",
      "8700 0.007442268\n",
      "8800 0.0074405414\n",
      "8900 0.0074388273\n",
      "9000 0.007437123\n",
      "9100 0.0074354266\n",
      "9200 0.0074337465\n",
      "9300 0.0074320757\n",
      "9400 0.0074304156\n",
      "9500 0.0074287658\n",
      "9600 0.007427126\n",
      "9700 0.007425498\n",
      "9800 0.007423879\n",
      "9900 0.007422269\n",
      "last: 0.0074206865\n"
     ]
    }
   ],
   "source": [
    "\n",
    "# 神经网络训练循环\n",
    "losses = []\n",
    "\n",
    "for i in range(10000):\n",
    "    predict = neu(xx)\n",
    "    \n",
    "    loss = cost(predict, yy)\n",
    "    optimizer.zero_grad()\n",
    "    loss.backward()\n",
    "    optimizer.step()\n",
    "    losses.append(loss.data.numpy())\n",
    "    \n",
    "    # 每隔100步输出一下损失值（loss）\n",
    "    if i % 100==0:\n",
    "        print(i, loss.data.numpy())\n",
    "print('last:', losses[-1])\n"
   ]
  },
  {
   "cell_type": "markdown",
   "id": "bb525a46-e0d2-45da-a2bd-62c96b52aeb8",
   "metadata": {},
   "source": [
    "## 4.图形展示损失值"
   ]
  },
  {
   "cell_type": "code",
   "execution_count": 6,
   "id": "4771d637-f387-4773-9d38-bad6adc97d76",
   "metadata": {},
   "outputs": [
    {
     "data": {
      "image/png": "[encoded data removed]",
      "text/plain": [
       "<Figure size 1000x700 with 1 Axes>"
      ]
     },
     "metadata": {},
     "output_type": "display_data"
    }
   ],
   "source": [
    "# 打印输出损失值\n",
    "fig = plt.figure(figsize=(10, 7))\n",
    "plt.plot(np.arange(len(losses)),losses, 'o-')\n",
    "plt.xlabel('epoch')\n",
    "plt.ylabel('MSE')\n",
    "plt.show()"
   ]
  },
  {
   "cell_type": "markdown",
   "id": "b246a761-7699-44a6-a645-ccb1cb5b68dc",
   "metadata": {},
   "source": [
    "## 5.画出神经网络的函数曲线"
   ]
  },
  {
   "cell_type": "code",
   "execution_count": 7,
   "id": "bbd12afe-0d87-4cdf-9701-fd2a391a16ad",
   "metadata": {},
   "outputs": [
    {
     "data": {
      "text/plain": [
       "[<matplotlib.lines.Line2D at 0x251907e3df0>]"
      ]
     },
     "execution_count": 7,
     "metadata": {},
     "output_type": "execute_result"
    },
    {
     "data": {
      "image/png": "[encoded data removed]",
      "text/plain": [
       "<Figure size 1000x700 with 1 Axes>"
      ]
     },
     "metadata": {},
     "output_type": "display_data"
    }
   ],
   "source": [
    "# 用散点表示的样本数据\n",
    "targets_x = xx.data.numpy().reshape([rowCount,1]) \n",
    "targets_x = targets_x.astype(float) \n",
    "targets_x = targets_x * std + mean\n",
    "\n",
    "targets_y = yy.data.numpy().reshape([rowCount,1]) \n",
    "targets_y = targets_y.astype(float) \n",
    "targets_y = targets_y * ystd + ymean\n",
    "fig, ax = plt.subplots(figsize = (10, 7))\n",
    "ax.plot(targets_x, targets_y, '.')\n",
    "\n",
    "\n",
    "# 用折线表示的预测数据\n",
    "predict = neu(xx)\n",
    "predict = predict * ystd + ymean\n",
    "\n",
    "\n",
    "predict = predict.data.numpy()\n",
    "ax.plot(targets_x, predict)\n"
   ]
  },
  {
   "cell_type": "code",
   "execution_count": null,
   "id": "71ca46f5-4935-4dfe-819a-bc06d415e011",
   "metadata": {},
   "outputs": [],
   "source": [
    "predict = neu([20])"
   ]
  }
 ],
 "metadata": {
  "kernelspec": {
   "display_name": "base",
   "language": "python",
   "name": "python3"
  },
  "language_info": {
   "codemirror_mode": {
    "name": "ipython",
    "version": 3
   },
   "file_extension": ".py",
   "mimetype": "text/x-python",
   "name": "python",
   "nbconvert_exporter": "python",
   "pygments_lexer": "ipython3",
   "version": "3.10.9"
  },
  "vscode": {
   "interpreter": {
    "hash": "5bf5f540440871ae92f4541d44770e8fd8009ec8d209a341869b824b2f5c5cc8"
   }
  }
 },
 "nbformat": 4,
 "nbformat_minor": 5
}
