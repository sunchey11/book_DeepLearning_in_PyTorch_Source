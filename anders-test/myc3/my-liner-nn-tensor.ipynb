{
 "cells": [
  {
   "cell_type": "markdown",
   "id": "783ef167-231c-451a-84c4-e28416c7634c",
   "metadata": {},
   "source": [
    "# 用tensor的backward编写神经网络训练程序，预测线性函数的数据\n"
   ]
  },
  {
   "cell_type": "code",
   "execution_count": 1,
   "id": "677dc7b1-0e1f-426c-aff5-15c07f3347f0",
   "metadata": {},
   "outputs": [],
   "source": [
    "#导入需要使用的库\n",
    "import numpy as np\n",
    "import pandas as pd #读取csv文件的库\n",
    "import matplotlib.pyplot as plt\n",
    "import torch\n",
    "import torch.optim as optim\n",
    "\n",
    "# 让输出的图形直接在Notebook中显示\n",
    "%matplotlib inline"
   ]
  },
  {
   "cell_type": "markdown",
   "id": "f4bd2bab-6294-45b5-913c-7598024d9cbb",
   "metadata": {},
   "source": [
    "## 1.读取数据"
   ]
  },
  {
   "cell_type": "code",
   "execution_count": 2,
   "id": "43f6babf-8504-46ac-aac6-f1cba9b1df4e",
   "metadata": {},
   "outputs": [
    {
     "name": "stdout",
     "output_type": "stream",
     "text": [
      "(200, 2)\n"
     ]
    },
    {
     "data": {
      "text/html": [
       "<div>\n",
       "<style scoped>\n",
       "    .dataframe tbody tr th:only-of-type {\n",
       "        vertical-align: middle;\n",
       "    }\n",
       "\n",
       "    .dataframe tbody tr th {\n",
       "        vertical-align: top;\n",
       "    }\n",
       "\n",
       "    .dataframe thead th {\n",
       "        text-align: right;\n",
       "    }\n",
       "</style>\n",
       "<table border=\"1\" class=\"dataframe\">\n",
       "  <thead>\n",
       "    <tr style=\"text-align: right;\">\n",
       "      <th></th>\n",
       "      <th>x</th>\n",
       "      <th>y</th>\n",
       "    </tr>\n",
       "  </thead>\n",
       "  <tbody>\n",
       "    <tr>\n",
       "      <th>0</th>\n",
       "      <td>1.0</td>\n",
       "      <td>9.153159</td>\n",
       "    </tr>\n",
       "    <tr>\n",
       "      <th>1</th>\n",
       "      <td>2.0</td>\n",
       "      <td>-10.511052</td>\n",
       "    </tr>\n",
       "    <tr>\n",
       "      <th>2</th>\n",
       "      <td>3.0</td>\n",
       "      <td>-1.507276</td>\n",
       "    </tr>\n",
       "    <tr>\n",
       "      <th>3</th>\n",
       "      <td>4.0</td>\n",
       "      <td>-31.165224</td>\n",
       "    </tr>\n",
       "    <tr>\n",
       "      <th>4</th>\n",
       "      <td>5.0</td>\n",
       "      <td>-5.947754</td>\n",
       "    </tr>\n",
       "    <tr>\n",
       "      <th>...</th>\n",
       "      <td>...</td>\n",
       "      <td>...</td>\n",
       "    </tr>\n",
       "    <tr>\n",
       "      <th>195</th>\n",
       "      <td>196.0</td>\n",
       "      <td>8.263368</td>\n",
       "    </tr>\n",
       "    <tr>\n",
       "      <th>196</th>\n",
       "      <td>197.0</td>\n",
       "      <td>10.041613</td>\n",
       "    </tr>\n",
       "    <tr>\n",
       "      <th>197</th>\n",
       "      <td>198.0</td>\n",
       "      <td>18.278316</td>\n",
       "    </tr>\n",
       "    <tr>\n",
       "      <th>198</th>\n",
       "      <td>199.0</td>\n",
       "      <td>-2.559620</td>\n",
       "    </tr>\n",
       "    <tr>\n",
       "      <th>199</th>\n",
       "      <td>200.0</td>\n",
       "      <td>48.977264</td>\n",
       "    </tr>\n",
       "  </tbody>\n",
       "</table>\n",
       "<p>200 rows × 2 columns</p>\n",
       "</div>"
      ],
      "text/plain": [
       "         x          y\n",
       "0      1.0   9.153159\n",
       "1      2.0 -10.511052\n",
       "2      3.0  -1.507276\n",
       "3      4.0 -31.165224\n",
       "4      5.0  -5.947754\n",
       "..     ...        ...\n",
       "195  196.0   8.263368\n",
       "196  197.0  10.041613\n",
       "197  198.0  18.278316\n",
       "198  199.0  -2.559620\n",
       "199  200.0  48.977264\n",
       "\n",
       "[200 rows x 2 columns]"
      ]
     },
     "execution_count": 2,
     "metadata": {},
     "output_type": "execute_result"
    }
   ],
   "source": [
    "#读取数据到内存中，rides为一个dataframe对象\n",
    "# 这个数据是由此代码生成的D:\\GitHub\\book_DeepLearning_in_PyTorch_Source\\anders-test\\myc3\\gen-data.py\n",
    "# 此代码可以显示此数据D:\\GitHub\\book_DeepLearning_in_PyTorch_Source\\anders-test\\myc3\\show-data.py\n",
    "data_path = 'liner-data1.csv'\n",
    "rides = pd.read_csv(data_path)\n",
    "\n",
    "print(rides.shape)\n",
    "rowCount = rides.shape[0]\n",
    "#看看数据长什么样子\n",
    "rides\n"
   ]
  },
  {
   "cell_type": "markdown",
   "id": "80a06241-1fb1-4609-af9a-61f846d24533",
   "metadata": {},
   "source": [
    "## 2.将数据转成tensor数组"
   ]
  },
  {
   "cell_type": "code",
   "execution_count": 3,
   "id": "a0aba9a3-2f6d-484f-9392-1884845bf13f",
   "metadata": {},
   "outputs": [
    {
     "name": "stdout",
     "output_type": "stream",
     "text": [
      "torch.Size([200, 1])\n"
     ]
    }
   ],
   "source": [
    "xx_arr=rides.drop(['y'], axis=1).values\n",
    "# print(xx)\n",
    "yy_arr=rides.drop(['x'], axis=1).values\n",
    "# print(yy)\n",
    "\n",
    "# 输入数据是1-200，将它变成0到1之间的数\n",
    "# 如果没有这一步，则结果不对，得到的参数是一条水平的线\n",
    "xx = torch.tensor(xx_arr/rowCount, dtype = torch.float, requires_grad = True)\n",
    "\n",
    "yy = torch.tensor(yy_arr, dtype = torch.float, requires_grad = True)\n",
    "print(xx.shape)\n",
    "# print(xx)"
   ]
  },
  {
   "cell_type": "code",
   "execution_count": 4,
   "id": "221f60a0-3389-42ac-8986-b7b58ffa5de3",
   "metadata": {},
   "outputs": [],
   "source": [
    "x = xx.view(rowCount, -1)\n",
    "# print(\"x2:\",x)"
   ]
  },
  {
   "cell_type": "markdown",
   "id": "6bc04a56-9520-473f-8c2c-d4a23fea9e10",
   "metadata": {},
   "source": [
    "## 2.构建神经网络"
   ]
  },
  {
   "cell_type": "code",
   "execution_count": 5,
   "id": "78297e9e-4643-4d82-8254-a29d7685ef64",
   "metadata": {},
   "outputs": [
    {
     "name": "stdout",
     "output_type": "stream",
     "text": [
      "weights: tensor([[3.9276]], dtype=torch.float64, requires_grad=True)\n",
      "biases: tensor([-1.1799], dtype=torch.float64, requires_grad=True)\n",
      "weights2: tensor([[9.6974]], dtype=torch.float64, requires_grad=True)\n"
     ]
    }
   ],
   "source": [
    "# 程序有错误，每次运行结果都不一样\n",
    "# 给一些固定的初始值作为参数，保证每次调试结果都一样，方便找出问题。\n",
    "initWeight=3.9276\n",
    "\n",
    "initBiase=-1.1799\n",
    "\n",
    "initWeight2=9.6974\n",
    "\n",
    "# 设置隐含层神经元的数量\n",
    "sz = 1\n",
    "\n",
    "# 初始化所有神经网络的权重（weights）和阈值（biases）\n",
    "weights = torch.randn((1, sz), dtype = torch.double, requires_grad = True) #1*10的输入到隐含层的权重矩阵\n",
    "weights = weights.new_full((1, sz),initWeight, requires_grad = True)\n",
    "print(\"weights:\",weights)\n",
    "biases = torch.randn(sz, dtype = torch.double, requires_grad = True) #尺度为10的隐含层节点偏置向量\n",
    "biases = biases.new_full((1,),initBiase, requires_grad = True)\n",
    "print(\"biases:\",biases)\n",
    "weights2 = torch.randn((sz, 1), dtype = torch.double, requires_grad = True) #10*1的隐含到输出层权重矩阵\n",
    "weights2= weights2.new_full((sz,1),initWeight2, requires_grad = True)\n",
    "print(\"weights2:\",weights2)\n",
    "learning_rate = 0.001 #设置学习率\n",
    "losses = []\n",
    "\n",
    "# 将 x 转换为(200,1)的维度，以便与维度为(1,10)的weights矩阵相乘\n",
    "x = xx.view(rowCount, -1)\n",
    "# print(\"x2:\",x)\n",
    "# 将 y 转换为(200,1)的维度\n",
    "y = yy.view(rowCount, -1)\n",
    "# print(\"y2:\",y)\n",
    "\n",
    "\n"
   ]
  },
  {
   "cell_type": "markdown",
   "id": "8ebb1eb2-4adb-4eb7-b884-7b7a2249243c",
   "metadata": {},
   "source": [
    "## 3.训练"
   ]
  },
  {
   "cell_type": "code",
   "execution_count": 6,
   "id": "da6882d1-2215-4172-af26-030d4daa3021",
   "metadata": {},
   "outputs": [
    {
     "name": "stdout",
     "output_type": "stream",
     "text": [
      "loss: tensor(137.4312, dtype=torch.float64, grad_fn=<MeanBackward0>)\n",
      "loss: tensor(103.4244, dtype=torch.float64, grad_fn=<MeanBackward0>)\n",
      "loss: tensor(103.4218, dtype=torch.float64, grad_fn=<MeanBackward0>)\n",
      "loss: tensor(103.4216, dtype=torch.float64, grad_fn=<MeanBackward0>)\n",
      "loss: tensor(103.4216, dtype=torch.float64, grad_fn=<MeanBackward0>)\n",
      "loss: tensor(103.4216, dtype=torch.float64, grad_fn=<MeanBackward0>)\n",
      "loss: tensor(103.4216, dtype=torch.float64, grad_fn=<MeanBackward0>)\n",
      "loss: tensor(103.4216, dtype=torch.float64, grad_fn=<MeanBackward0>)\n",
      "loss: tensor(103.4216, dtype=torch.float64, grad_fn=<MeanBackward0>)\n",
      "loss: tensor(103.4216, dtype=torch.float64, grad_fn=<MeanBackward0>)\n",
      "tensor([[7.9432]], dtype=torch.float64, requires_grad=True)\n",
      "tensor([[18.6740]], dtype=torch.float64, requires_grad=True)\n",
      "tensor([-3.7736], dtype=torch.float64, requires_grad=True)\n"
     ]
    }
   ],
   "source": [
    "for i in range(100000):\n",
    "    # 从输入层到隐含层的计算\n",
    "    # print(\"biases:\",biases)\n",
    "    # print(\"x * weights:\",x * weights)\n",
    "    # print(\"x * weights+ biases:\",x * weights+ biases)\n",
    "    hidden = x * weights + biases\n",
    "    \n",
    "    # 将sigmoid函数作用在隐含层的每一个神经元上\n",
    "    hidden = torch.sigmoid(hidden)\n",
    "    # hidden此时有50行，每行代表一条训练数据，10列，每列是神经元的值  \n",
    "    # print(\"hidden:\",hidden)\n",
    "    #print(hidden.size())\n",
    "    # 隐含层输出到输出层，计算得到最终预测\n",
    "    predictions = hidden.mm(weights2)#\n",
    "    # predictions此时有50行，1列，即最终结果     \n",
    "    #print(predictions.size())\n",
    "    # 通过与标签数据y比较，计算均方误差\n",
    "    loss = torch.mean((predictions - y) ** 2) \n",
    "    #print(loss.size())\n",
    "    losses.append(loss.data.numpy())\n",
    "    \n",
    "    # 每隔10000个周期打印一下损失函数数值\n",
    "    if i % 10000 == 0:\n",
    "        print('loss:', loss)\n",
    "        \n",
    "    #对损失函数进行梯度反传\n",
    "    loss.backward()\n",
    "    \n",
    "    #利用上一步计算中得到的weights，biases等梯度信息更新weights或biases中的data数值\n",
    "    weights.data.add_(- learning_rate * weights.grad.data)  \n",
    "    biases.data.add_(- learning_rate * biases.grad.data)\n",
    "    weights2.data.add_(- learning_rate * weights2.grad.data)\n",
    "    \n",
    "    # 清空所有变量的梯度值。\n",
    "    # 因为pytorch中backward一次梯度信息会自动累加到各个变量上，因此需要清空，否则下一次迭代会累加，造成很大的偏差\n",
    "    weights.grad.data.zero_()\n",
    "    biases.grad.data.zero_()\n",
    "    weights2.grad.data.zero_()\n",
    "print(weights)\n",
    "print(weights2)\n",
    "print(biases)\n",
    "\n",
    "\n"
   ]
  },
  {
   "cell_type": "markdown",
   "id": "bb525a46-e0d2-45da-a2bd-62c96b52aeb8",
   "metadata": {},
   "source": [
    "## 4.图形展示损失值"
   ]
  },
  {
   "cell_type": "code",
   "execution_count": 7,
   "id": "4771d637-f387-4773-9d38-bad6adc97d76",
   "metadata": {},
   "outputs": [
    {
     "data": {
      "image/png": "[encoded data removed]",
      "text/plain": [
       "<Figure size 640x480 with 1 Axes>"
      ]
     },
     "metadata": {},
     "output_type": "display_data"
    }
   ],
   "source": [
    "# 打印误差曲线\n",
    "plt.plot(losses)\n",
    "plt.xlabel('Epoch')\n",
    "plt.ylabel('Loss')\n",
    "plt.show()"
   ]
  },
  {
   "cell_type": "markdown",
   "id": "b246a761-7699-44a6-a645-ccb1cb5b68dc",
   "metadata": {},
   "source": [
    "## 5.原始数据的图像和预测数据的图像"
   ]
  },
  {
   "cell_type": "code",
   "execution_count": 8,
   "id": "bbd12afe-0d87-4cdf-9701-fd2a391a16ad",
   "metadata": {},
   "outputs": [
    {
     "data": {
      "image/png": "[encoded data removed]",
      "text/plain": [
       "<Figure size 1000x700 with 1 Axes>"
      ]
     },
     "metadata": {},
     "output_type": "display_data"
    }
   ],
   "source": [
    "x_data = x.data.numpy() # 获得x包裹的数据\n",
    "plt.figure(figsize = (10, 7)) #设定绘图窗口大小\n",
    "xplot, = plt.plot(x_data, y.data.numpy(), 'o') # 绘制原始数据\n",
    "\n",
    "yplot, = plt.plot(x_data, predictions\n",
    "                  .data.numpy())  #绘制拟合数据\n",
    "plt.xlabel('X') #更改坐标轴标注\n",
    "plt.ylabel('Y') #更改坐标轴标注\n",
    "plt.legend([xplot, yplot],['Data', 'Prediction under 1000000 epochs']) #绘制图例\n",
    "plt.show()"
   ]
  },
  {
   "cell_type": "code",
   "execution_count": 9,
   "id": "d60f7a1b-d676-4dab-9691-ad3be49a266a",
   "metadata": {},
   "outputs": [
    {
     "name": "stdout",
     "output_type": "stream",
     "text": [
      "0.03971599911227822\n",
      "-3.7338840008877217\n",
      "0.0050\t -3.73388\t 0.0233\t 0.4359\t 0.4359\t \n",
      "0.0100\t -3.69417\t 0.0243\t 0.4531\t 0.4531\t \n",
      "0.0150\t -3.65445\t 0.0252\t 0.4710\t 0.4710\t \n",
      "0.0200\t -3.61474\t 0.0262\t 0.4896\t 0.4896\t \n",
      "0.0250\t -3.57502\t 0.0273\t 0.5089\t 0.5089\t \n",
      "0.0300\t -3.53530\t 0.0283\t 0.5289\t 0.5290\t \n",
      "0.0350\t -3.49559\t 0.0294\t 0.5497\t 0.5498\t \n",
      "0.0400\t -3.45587\t 0.0306\t 0.5713\t 0.5713\t \n",
      "0.0450\t -3.41616\t 0.0318\t 0.5937\t 0.5938\t \n",
      "0.0500\t -3.37644\t 0.0330\t 0.6170\t 0.6170\t \n",
      "0.0550\t -3.33672\t 0.0343\t 0.6411\t 0.6412\t \n",
      "0.0600\t -3.29701\t 0.0357\t 0.6662\t 0.6662\t \n",
      "0.0650\t -3.25729\t 0.0371\t 0.6922\t 0.6922\t \n",
      "0.0700\t -3.21758\t 0.0385\t 0.7191\t 0.7192\t \n",
      "0.0750\t -3.17786\t 0.0400\t 0.7471\t 0.7471\t \n",
      "0.0800\t -3.13814\t 0.0416\t 0.7761\t 0.7761\t \n",
      "0.0850\t -3.09843\t 0.0432\t 0.8062\t 0.8062\t \n",
      "0.0900\t -3.05871\t 0.0448\t 0.8374\t 0.8374\t \n",
      "0.0950\t -3.01900\t 0.0466\t 0.8697\t 0.8698\t \n",
      "0.1000\t -2.97928\t 0.0484\t 0.9033\t 0.9033\t \n",
      "0.1050\t -2.93956\t 0.0502\t 0.9380\t 0.9381\t \n",
      "0.1100\t -2.89985\t 0.0522\t 0.9741\t 0.9741\t \n",
      "0.1150\t -2.86013\t 0.0542\t 1.0114\t 1.0114\t \n",
      "0.1200\t -2.82042\t 0.0562\t 1.0501\t 1.0501\t \n",
      "0.1250\t -2.78070\t 0.0584\t 1.0901\t 1.0902\t \n",
      "0.1300\t -2.74098\t 0.0606\t 1.1316\t 1.1317\t \n",
      "0.1350\t -2.70127\t 0.0629\t 1.1746\t 1.1746\t \n",
      "0.1400\t -2.66155\t 0.0653\t 1.2190\t 1.2191\t \n",
      "0.1450\t -2.62184\t 0.0677\t 1.2651\t 1.2652\t \n",
      "0.1500\t -2.58212\t 0.0703\t 1.3127\t 1.3128\t \n",
      "0.1550\t -2.54240\t 0.0729\t 1.3621\t 1.3621\t \n",
      "0.1600\t -2.50269\t 0.0757\t 1.4131\t 1.4131\t \n",
      "0.1650\t -2.46297\t 0.0785\t 1.4658\t 1.4659\t \n",
      "0.1700\t -2.42326\t 0.0814\t 1.5204\t 1.5204\t \n",
      "0.1750\t -2.38354\t 0.0844\t 1.5768\t 1.5768\t \n",
      "0.1800\t -2.34382\t 0.0876\t 1.6351\t 1.6351\t \n",
      "0.1850\t -2.30411\t 0.0908\t 1.6953\t 1.6954\t \n",
      "0.1900\t -2.26439\t 0.0941\t 1.7575\t 1.7576\t \n",
      "0.1950\t -2.22468\t 0.0976\t 1.8218\t 1.8219\t \n",
      "0.2000\t -2.18496\t 0.1011\t 1.8881\t 1.8882\t \n",
      "0.2050\t -2.14524\t 0.1048\t 1.9566\t 1.9567\t \n",
      "0.2100\t -2.10553\t 0.1086\t 2.0273\t 2.0274\t \n",
      "0.2150\t -2.06581\t 0.1125\t 2.1002\t 2.1003\t \n",
      "0.2200\t -2.02610\t 0.1165\t 2.1753\t 2.1754\t \n",
      "0.2250\t -1.98638\t 0.1206\t 2.2528\t 2.2529\t \n",
      "0.2300\t -1.94666\t 0.1249\t 2.3327\t 2.3328\t \n",
      "0.2350\t -1.90695\t 0.1293\t 2.4150\t 2.4151\t \n",
      "0.2400\t -1.86723\t 0.1339\t 2.4997\t 2.4999\t \n",
      "0.2450\t -1.82752\t 0.1385\t 2.5870\t 2.5871\t \n",
      "0.2500\t -1.78780\t 0.1433\t 2.6768\t 2.6769\t \n",
      "0.2550\t -1.74808\t 0.1483\t 2.7691\t 2.7693\t \n",
      "0.2600\t -1.70837\t 0.1534\t 2.8641\t 2.8643\t \n",
      "0.2650\t -1.66865\t 0.1586\t 2.9618\t 2.9619\t \n",
      "0.2700\t -1.62894\t 0.1640\t 3.0621\t 3.0622\t \n",
      "0.2750\t -1.58922\t 0.1695\t 3.1651\t 3.1653\t \n",
      "0.2800\t -1.54950\t 0.1752\t 3.2709\t 3.2710\t \n",
      "0.2850\t -1.50979\t 0.1810\t 3.3794\t 3.3796\t \n",
      "0.2900\t -1.47007\t 0.1869\t 3.4908\t 3.4909\t \n",
      "0.2950\t -1.43036\t 0.1930\t 3.6049\t 3.6050\t \n",
      "0.3000\t -1.39064\t 0.1993\t 3.7218\t 3.7220\t \n",
      "0.3050\t -1.35092\t 0.2057\t 3.8416\t 3.8418\t \n",
      "0.3100\t -1.31121\t 0.2123\t 3.9642\t 3.9644\t \n",
      "0.3150\t -1.27149\t 0.2190\t 4.0896\t 4.0898\t \n",
      "0.3200\t -1.23178\t 0.2259\t 4.2179\t 4.2181\t \n",
      "0.3250\t -1.19206\t 0.2329\t 4.3490\t 4.3492\t \n",
      "0.3300\t -1.15234\t 0.2401\t 4.4829\t 4.4831\t \n",
      "0.3350\t -1.11263\t 0.2474\t 4.6196\t 4.6198\t \n",
      "0.3400\t -1.07291\t 0.2548\t 4.7591\t 4.7593\t \n",
      "0.3450\t -1.03320\t 0.2625\t 4.9013\t 4.9015\t \n",
      "0.3500\t -0.99348\t 0.2702\t 5.0462\t 5.0464\t \n",
      "0.3550\t -0.95376\t 0.2781\t 5.1938\t 5.1940\t \n",
      "0.3600\t -0.91405\t 0.2862\t 5.3440\t 5.3442\t \n",
      "0.3650\t -0.87433\t 0.2944\t 5.4968\t 5.4970\t \n",
      "0.3700\t -0.83462\t 0.3027\t 5.6521\t 5.6523\t \n",
      "0.3750\t -0.79490\t 0.3111\t 5.8098\t 5.8100\t \n",
      "0.3800\t -0.75518\t 0.3197\t 5.9699\t 5.9702\t \n",
      "0.3850\t -0.71547\t 0.3284\t 6.1324\t 6.1326\t \n",
      "0.3900\t -0.67575\t 0.3372\t 6.2971\t 6.2973\t \n",
      "0.3950\t -0.63604\t 0.3461\t 6.4639\t 6.4641\t \n",
      "0.4000\t -0.59632\t 0.3552\t 6.6327\t 6.6330\t \n",
      "0.4050\t -0.55660\t 0.3643\t 6.8036\t 6.8038\t \n",
      "0.4100\t -0.51689\t 0.3736\t 6.9762\t 6.9765\t \n",
      "0.4150\t -0.47717\t 0.3829\t 7.1507\t 7.1509\t \n",
      "0.4200\t -0.43746\t 0.3923\t 7.3267\t 7.3270\t \n",
      "0.4250\t -0.39774\t 0.4019\t 7.5042\t 7.5045\t \n",
      "0.4300\t -0.35802\t 0.4114\t 7.6832\t 7.6835\t \n",
      "0.4350\t -0.31831\t 0.4211\t 7.8634\t 7.8637\t \n",
      "0.4400\t -0.27859\t 0.4308\t 8.0447\t 8.0450\t \n",
      "0.4450\t -0.23888\t 0.4406\t 8.2271\t 8.2273\t \n",
      "0.4500\t -0.19916\t 0.4504\t 8.4103\t 8.4106\t \n",
      "0.4550\t -0.15944\t 0.4602\t 8.5942\t 8.5945\t \n",
      "0.4600\t -0.11973\t 0.4701\t 8.7787\t 8.7790\t \n",
      "0.4650\t -0.08001\t 0.4800\t 8.9637\t 8.9639\t \n",
      "0.4700\t -0.04030\t 0.4899\t 9.1489\t 9.1492\t \n",
      "0.4750\t -0.00058\t 0.4999\t 9.3343\t 9.3346\t \n",
      "0.4800\t 0.03914\t 0.5098\t 9.5197\t 9.5200\t \n",
      "0.4850\t 0.07885\t 0.5197\t 9.7049\t 9.7052\t \n",
      "0.4900\t 0.11857\t 0.5296\t 9.8899\t 9.8902\t \n",
      "0.4950\t 0.15828\t 0.5395\t 10.0744\t 10.0747\t \n",
      "0.5000\t 0.19800\t 0.5493\t 10.2584\t 10.2586\t \n",
      "0.5050\t 0.23772\t 0.5592\t 10.4416\t 10.4419\t \n",
      "0.5100\t 0.27743\t 0.5689\t 10.6239\t 10.6242\t \n",
      "0.5150\t 0.31715\t 0.5786\t 10.8053\t 10.8056\t \n",
      "0.5200\t 0.35686\t 0.5883\t 10.9856\t 10.9858\t \n",
      "0.5250\t 0.39658\t 0.5979\t 11.1645\t 11.1648\t \n",
      "0.5300\t 0.43630\t 0.6074\t 11.3421\t 11.3424\t \n",
      "0.5350\t 0.47601\t 0.6168\t 11.5182\t 11.5185\t \n",
      "0.5400\t 0.51573\t 0.6261\t 11.6927\t 11.6930\t \n",
      "0.5450\t 0.55544\t 0.6354\t 11.8654\t 11.8657\t \n",
      "0.5500\t 0.59516\t 0.6445\t 12.0363\t 12.0366\t \n",
      "0.5550\t 0.63488\t 0.6536\t 12.2052\t 12.2055\t \n",
      "0.5600\t 0.67459\t 0.6625\t 12.3721\t 12.3723\t \n",
      "0.5650\t 0.71431\t 0.6714\t 12.5368\t 12.5371\t \n",
      "0.5700\t 0.75402\t 0.6801\t 12.6993\t 12.6996\t \n",
      "0.5750\t 0.79374\t 0.6886\t 12.8595\t 12.8598\t \n",
      "0.5800\t 0.83346\t 0.6971\t 13.0174\t 13.0176\t \n",
      "0.5850\t 0.87317\t 0.7054\t 13.1727\t 13.1730\t \n",
      "0.5900\t 0.91289\t 0.7136\t 13.3256\t 13.3258\t \n",
      "0.5950\t 0.95260\t 0.7216\t 13.4759\t 13.4761\t \n",
      "0.6000\t 0.99232\t 0.7295\t 13.6235\t 13.6238\t \n",
      "0.6050\t 1.03204\t 0.7373\t 13.7685\t 13.7688\t \n",
      "0.6100\t 1.07175\t 0.7449\t 13.9108\t 13.9110\t \n",
      "0.6150\t 1.11147\t 0.7524\t 14.0504\t 14.0506\t \n",
      "0.6200\t 1.15118\t 0.7597\t 14.1871\t 14.1873\t \n",
      "0.6250\t 1.19090\t 0.7669\t 14.3211\t 14.3213\t \n",
      "0.6300\t 1.23062\t 0.7739\t 14.4523\t 14.4525\t \n",
      "0.6350\t 1.27033\t 0.7808\t 14.5806\t 14.5808\t \n",
      "0.6400\t 1.31005\t 0.7875\t 14.7062\t 14.7064\t \n",
      "0.6450\t 1.34976\t 0.7941\t 14.8289\t 14.8290\t \n",
      "0.6500\t 1.38948\t 0.8005\t 14.9487\t 14.9489\t \n",
      "0.6550\t 1.42920\t 0.8068\t 15.0657\t 15.0659\t \n",
      "0.6600\t 1.46891\t 0.8129\t 15.1799\t 15.1801\t \n",
      "0.6650\t 1.50863\t 0.8189\t 15.2914\t 15.2915\t \n",
      "0.6700\t 1.54834\t 0.8247\t 15.4000\t 15.4001\t \n",
      "0.6750\t 1.58806\t 0.8303\t 15.5058\t 15.5060\t \n",
      "0.6800\t 1.62778\t 0.8359\t 15.6089\t 15.6091\t \n",
      "0.6850\t 1.66749\t 0.8412\t 15.7093\t 15.7095\t \n",
      "0.6900\t 1.70721\t 0.8465\t 15.8071\t 15.8072\t \n",
      "0.6950\t 1.74692\t 0.8516\t 15.9021\t 15.9023\t \n",
      "0.7000\t 1.78664\t 0.8565\t 15.9946\t 15.9947\t \n",
      "0.7050\t 1.82636\t 0.8613\t 16.0844\t 16.0845\t \n",
      "0.7100\t 1.86607\t 0.8660\t 16.1717\t 16.1719\t \n",
      "0.7150\t 1.90579\t 0.8705\t 16.2566\t 16.2567\t \n",
      "0.7200\t 1.94550\t 0.8750\t 16.3389\t 16.3390\t \n",
      "0.7250\t 1.98522\t 0.8792\t 16.4189\t 16.4190\t \n",
      "0.7300\t 2.02494\t 0.8834\t 16.4964\t 16.4965\t \n",
      "0.7350\t 2.06465\t 0.8874\t 16.5717\t 16.5718\t \n",
      "0.7400\t 2.10437\t 0.8913\t 16.6446\t 16.6447\t \n",
      "0.7450\t 2.14408\t 0.8951\t 16.7154\t 16.7155\t \n",
      "0.7500\t 2.18380\t 0.8988\t 16.7839\t 16.7840\t \n",
      "0.7550\t 2.22352\t 0.9023\t 16.8503\t 16.8504\t \n",
      "0.7600\t 2.26323\t 0.9058\t 16.9146\t 16.9147\t \n",
      "0.7650\t 2.30295\t 0.9091\t 16.9769\t 16.9770\t \n",
      "0.7700\t 2.34266\t 0.9123\t 17.0372\t 17.0373\t \n",
      "0.7750\t 2.38238\t 0.9155\t 17.0956\t 17.0956\t \n",
      "0.7800\t 2.42210\t 0.9185\t 17.1520\t 17.1521\t \n",
      "0.7850\t 2.46181\t 0.9214\t 17.2066\t 17.2067\t \n",
      "0.7900\t 2.50153\t 0.9242\t 17.2594\t 17.2595\t \n",
      "0.7950\t 2.54124\t 0.9270\t 17.3105\t 17.3105\t \n",
      "0.8000\t 2.58096\t 0.9296\t 17.3598\t 17.3599\t \n",
      "0.8050\t 2.62068\t 0.9322\t 17.4075\t 17.4076\t \n",
      "0.8100\t 2.66039\t 0.9346\t 17.4536\t 17.4537\t \n",
      "0.8150\t 2.70011\t 0.9370\t 17.4982\t 17.4982\t \n",
      "0.8200\t 2.73982\t 0.9393\t 17.5412\t 17.5412\t \n",
      "0.8250\t 2.77954\t 0.9416\t 17.5827\t 17.5827\t \n",
      "0.8300\t 2.81926\t 0.9437\t 17.6228\t 17.6228\t \n",
      "0.8350\t 2.85897\t 0.9458\t 17.6615\t 17.6615\t \n",
      "0.8400\t 2.89869\t 0.9478\t 17.6989\t 17.6989\t \n",
      "0.8450\t 2.93840\t 0.9497\t 17.7349\t 17.7350\t \n",
      "0.8500\t 2.97812\t 0.9516\t 17.7697\t 17.7698\t \n",
      "0.8550\t 3.01784\t 0.9534\t 17.8033\t 17.8033\t \n",
      "0.8600\t 3.05755\t 0.9551\t 17.8357\t 17.8357\t \n",
      "0.8650\t 3.09727\t 0.9568\t 17.8669\t 17.8669\t \n",
      "0.8700\t 3.13698\t 0.9584\t 17.8970\t 17.8971\t \n",
      "0.8750\t 3.17670\t 0.9599\t 17.9261\t 17.9261\t \n",
      "0.8800\t 3.21642\t 0.9614\t 17.9541\t 17.9541\t \n",
      "0.8850\t 3.25613\t 0.9629\t 17.9811\t 17.9811\t \n",
      "0.8900\t 3.29585\t 0.9643\t 18.0071\t 18.0071\t \n",
      "0.8950\t 3.33556\t 0.9656\t 18.0322\t 18.0322\t \n",
      "0.9000\t 3.37528\t 0.9669\t 18.0563\t 18.0563\t \n",
      "0.9050\t 3.41500\t 0.9682\t 18.0796\t 18.0796\t \n",
      "0.9100\t 3.45471\t 0.9694\t 18.1020\t 18.1021\t \n",
      "0.9150\t 3.49443\t 0.9705\t 18.1237\t 18.1237\t \n",
      "0.9200\t 3.53414\t 0.9716\t 18.1445\t 18.1445\t \n",
      "0.9250\t 3.57386\t 0.9727\t 18.1645\t 18.1645\t \n",
      "0.9300\t 3.61358\t 0.9738\t 18.1838\t 18.1839\t \n",
      "0.9350\t 3.65329\t 0.9747\t 18.2025\t 18.2025\t \n",
      "0.9400\t 3.69301\t 0.9757\t 18.2204\t 18.2204\t \n",
      "0.9450\t 3.73272\t 0.9766\t 18.2376\t 18.2376\t \n",
      "0.9500\t 3.77244\t 0.9775\t 18.2542\t 18.2542\t \n",
      "0.9550\t 3.81216\t 0.9784\t 18.2702\t 18.2702\t \n",
      "0.9600\t 3.85187\t 0.9792\t 18.2856\t 18.2856\t \n",
      "0.9650\t 3.89159\t 0.9800\t 18.3004\t 18.3004\t \n",
      "0.9700\t 3.93130\t 0.9808\t 18.3147\t 18.3147\t \n",
      "0.9750\t 3.97102\t 0.9815\t 18.3284\t 18.3284\t \n",
      "0.9800\t 4.01074\t 0.9822\t 18.3416\t 18.3416\t \n",
      "0.9850\t 4.05045\t 0.9829\t 18.3544\t 18.3544\t \n",
      "0.9900\t 4.09017\t 0.9835\t 18.3666\t 18.3666\t \n",
      "0.9950\t 4.12988\t 0.9842\t 18.3784\t 18.3784\t \n",
      "1.0000\t 4.16960\t 0.9848\t 18.3897\t 18.3897\t \n"
     ]
    }
   ],
   "source": [
    "\n",
    "# tensor([[2.9068]], dtype=torch.float64, requires_grad=True)\n",
    "# tensor([-1.4661], dtype=torch.float64, requires_grad=True)\n",
    "# tensor([[9.7041]],\n",
    "# 打印出预测的过程\n",
    "myweight=7.9432\n",
    "myweight2=18.6740\n",
    "\n",
    "mybiase=-3.7736\n",
    "\n",
    "\n",
    "\n",
    "\n",
    "# 获取张量的shape\n",
    "dim0, dim1 = x.shape\n",
    "print(x[0][0].item()*myweight)\n",
    "print(x[0][0].item()*myweight+mybiase)\n",
    "\n",
    "myHidden = x * myweight + mybiase\n",
    "    \n",
    "# 将sigmoid函数作用在隐含层的每一个神经元上\n",
    "myHidden2 = torch.sigmoid(myHidden)\n",
    "\n",
    "result = myHidden2*myweight2\n",
    "# 遍历张量\n",
    "for i in range(dim0):\n",
    "    \n",
    "    element = x[i][0]\n",
    "    print('%.4f\\t' % element.item(), end=' ')\n",
    "    \n",
    "    \n",
    "    h1=myHidden[i][0]\n",
    "    print('%.5f\\t' % h1.item(), end=' ')\n",
    "    \n",
    "    h2=myHidden2[i][0]\n",
    "    print('%.4f\\t' % h2.item(), end=' ')\n",
    "    \n",
    "    r=result[i][0]\n",
    "    print('%.4f\\t' % r.item(), end=' ')\n",
    "    \n",
    "    p=predictions[i][0]\n",
    "    print('%.4f\\t' % p.item(), end=' ')\n",
    "    print()\n"
   ]
  },
  {
   "cell_type": "code",
   "execution_count": 10,
   "id": "b107fef4-e7fb-4238-97fc-54433bde3b0f",
   "metadata": {},
   "outputs": [
    {
     "name": "stdout",
     "output_type": "stream",
     "text": [
      "20 7.9432 -3.7736\n",
      "155.09040000000002\n"
     ]
    }
   ],
   "source": [
    "\n",
    "\n",
    "myx=20\n",
    "print(myx,myweight,mybiase)\n",
    "myHidden=myx*myweight+mybiase\n",
    "print(myHidden)"
   ]
  },
  {
   "cell_type": "code",
   "execution_count": 11,
   "id": "be0de776-f1bd-4859-aff6-35ce4001cc0c",
   "metadata": {},
   "outputs": [
    {
     "name": "stdout",
     "output_type": "stream",
     "text": [
      "tensor([1.])\n"
     ]
    }
   ],
   "source": [
    "myHiddenSigmoid = torch.sigmoid(torch.tensor([myHidden]))\n",
    "print(myHiddenSigmoid)"
   ]
  },
  {
   "cell_type": "code",
   "execution_count": 12,
   "id": "3bf9b873-2f55-468c-a458-247f56cf8c00",
   "metadata": {},
   "outputs": [],
   "source": [
    "from math import exp\n",
    "def mySigmoid(x):\n",
    "    return 1 / (1+exp(-x))"
   ]
  },
  {
   "cell_type": "code",
   "execution_count": 13,
   "id": "abeef7a3-8c64-4fd2-9928-9cf9628190fe",
   "metadata": {},
   "outputs": [
    {
     "data": {
      "text/plain": [
       "1.0"
      ]
     },
     "execution_count": 13,
     "metadata": {},
     "output_type": "execute_result"
    }
   ],
   "source": [
    "mySigmoid(myHidden)"
   ]
  },
  {
   "cell_type": "code",
   "execution_count": null,
   "id": "2aa13052-27f2-4974-aef0-cf24bee3a7fd",
   "metadata": {},
   "outputs": [],
   "source": []
  }
 ],
 "metadata": {
  "kernelspec": {
   "display_name": "Python 3 (ipykernel)",
   "language": "python",
   "name": "python3"
  },
  "language_info": {
   "codemirror_mode": {
    "name": "ipython",
    "version": 3
   },
   "file_extension": ".py",
   "mimetype": "text/x-python",
   "name": "python",
   "nbconvert_exporter": "python",
   "pygments_lexer": "ipython3",
   "version": "3.10.9"
  }
 },
 "nbformat": 4,
 "nbformat_minor": 5
}
