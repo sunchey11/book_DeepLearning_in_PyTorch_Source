{
 "cells": [
  {
   "cell_type": "markdown",
   "id": "90b734c0-708f-4e58-98c0-8048f698f0b2",
   "metadata": {},
   "source": [
    "# 自动微分"
   ]
  },
  {
   "cell_type": "code",
   "execution_count": 1,
   "id": "357aa1d4-a116-4dd5-a24f-bea7078f4d41",
   "metadata": {},
   "outputs": [],
   "source": [
    "import torch\n"
   ]
  },
  {
   "cell_type": "markdown",
   "id": "27d34ef2-987e-42ef-9b23-a853d49b4c09",
   "metadata": {},
   "source": [
    "## 1. 不用mean，不能求导\n",
    "下面的代码会报错，在y.backward()这一行\n",
    "\n",
    "RuntimeError: grad can be implicitly created only for scalar outputs\n"
   ]
  },
  {
   "cell_type": "code",
   "execution_count": 2,
   "id": "22817bbc-c48e-40d0-afd7-8bfc18df7a22",
   "metadata": {},
   "outputs": [
    {
     "name": "stdout",
     "output_type": "stream",
     "text": [
      "tensor([[1., 2.],\n",
      "        [2., 3.]], dtype=torch.float64, requires_grad=True)\n",
      "tensor([[1., 4.],\n",
      "        [4., 9.]], dtype=torch.float64, grad_fn=<PowBackward0>)\n"
     ]
    }
   ],
   "source": [
    "x = torch.tensor([[1,2],\n",
    "                  [2,3]],dtype = float, requires_grad=True)\n",
    "print(x)\n",
    "y = x**2\n",
    "print(y)\n",
    "# y.backward()"
   ]
  },
  {
   "cell_type": "markdown",
   "id": "9cc8979d-7ba1-4372-87a7-aa9f44224d3f",
   "metadata": {},
   "source": [
    "## 2. 使用mean，就可以求导了"
   ]
  },
  {
   "cell_type": "code",
   "execution_count": 3,
   "id": "88806dd4-9520-47fd-ab2b-03e5927c6767",
   "metadata": {},
   "outputs": [
    {
     "name": "stdout",
     "output_type": "stream",
     "text": [
      "tensor([[1., 2.],\n",
      "        [2., 3.]], dtype=torch.float64, requires_grad=True)\n",
      "tensor(2., dtype=torch.float64, grad_fn=<MeanBackward0>)\n",
      "tensor([[0.2500, 0.2500],\n",
      "        [0.2500, 0.2500]], dtype=torch.float64)\n"
     ]
    }
   ],
   "source": [
    "x = torch.tensor([[1,2],\n",
    "                  [2,3]],dtype = float, requires_grad=True)\n",
    "print(x)\n",
    "y = x.mean()\n",
    "print(y)\n",
    "y.backward()\n",
    "print(x.grad)"
   ]
  },
  {
   "cell_type": "markdown",
   "id": "f53a7c40-ec26-4ef4-bf5d-f61965f136b0",
   "metadata": {},
   "source": [
    "<b><font size=3>求导分析：</font></b>\n",
    "\n",
    "\n",
    "为啥是0.25，因为平均值的公式为mean=a1/4+a2/4+a3/4+a4/4\n",
    "\n",
    "每个元素，都假设其它元素为常量，则导数为0.25，和实际的值没有关系"
   ]
  },
  {
   "cell_type": "markdown",
   "id": "296d84e6-4d4d-4703-a375-507c15e4a7c1",
   "metadata": {},
   "source": [
    "## 3. 求导的计算过程\n",
    "来自于这个教程的例子\n",
    "\n",
    "https://www.pytorch123.com/SecondSection/autograd_automatic_differentiation/"
   ]
  },
  {
   "cell_type": "code",
   "execution_count": 4,
   "id": "d95a7928-4e51-4f40-8013-25ed858ec724",
   "metadata": {},
   "outputs": [
    {
     "name": "stdout",
     "output_type": "stream",
     "text": [
      "tensor([[1., 1.],\n",
      "        [1., 1.]], requires_grad=True)\n"
     ]
    }
   ],
   "source": [
    "x = torch.ones(2, 2, requires_grad=True)\n",
    "print(x)"
   ]
  },
  {
   "cell_type": "code",
   "execution_count": 5,
   "id": "904b357a-729c-45a7-98cc-ba67afb7ca04",
   "metadata": {},
   "outputs": [
    {
     "name": "stdout",
     "output_type": "stream",
     "text": [
      "tensor([[3., 3.],\n",
      "        [3., 3.]], grad_fn=<AddBackward0>)\n"
     ]
    }
   ],
   "source": [
    "y = x + 2\n",
    "print(y)"
   ]
  },
  {
   "cell_type": "code",
   "execution_count": 6,
   "id": "bb177f7c-ec01-46ab-8a7a-4de42b4ca19f",
   "metadata": {},
   "outputs": [
    {
     "name": "stdout",
     "output_type": "stream",
     "text": [
      "<AddBackward0 object at 0x000001BC823F8C40>\n"
     ]
    }
   ],
   "source": [
    "print(y.grad_fn)\n"
   ]
  },
  {
   "cell_type": "code",
   "execution_count": 7,
   "id": "8bb5bd79-ad74-45e2-b37a-3d3309336943",
   "metadata": {},
   "outputs": [
    {
     "name": "stdout",
     "output_type": "stream",
     "text": [
      "tensor([[27., 27.],\n",
      "        [27., 27.]], grad_fn=<MulBackward0>) tensor(27., grad_fn=<MeanBackward0>)\n"
     ]
    }
   ],
   "source": [
    "z = y * y * 3\n",
    "out = z.mean()\n",
    "\n",
    "print(z, out)"
   ]
  },
  {
   "cell_type": "code",
   "execution_count": 8,
   "id": "80f4ed88-c720-4806-bd1a-46f5c34f94f6",
   "metadata": {},
   "outputs": [
    {
     "name": "stdout",
     "output_type": "stream",
     "text": [
      "tensor([[4.5000, 4.5000],\n",
      "        [4.5000, 4.5000]])\n"
     ]
    }
   ],
   "source": [
    "out.backward()\n",
    "print(x.grad)\n"
   ]
  },
  {
   "attachments": {
    "ac318994-420f-4c6a-8084-fdb4cfe0fbdb.png": {
     "image/png": "[encoded data removed]"
    }
   },
   "cell_type": "markdown",
   "id": "2c4d23f4-ec3a-41e7-8462-6d9c26fef3bc",
   "metadata": {},
   "source": [
    "<b><font size=3>求导分析：</font></b>\n",
    "\n",
    "\n",
    "为什么是4.5，一系列运算，对应了一个公式3*(x+2)**2\n",
    "\n",
    "求导公式可参考  程序员数学：用python学透线性代数和微积分 第 10 章　使用符号表达式\n",
    " https://docs.qq.com/doc/DVVhVcnl0Y3h2QmNj\n",
    " \n",
    "也可以使用网页算https://www.wolframalpha.com/input?i=3*%28x%2B2%29**2\n",
    "\n",
    "![image.png](attachment:ac318994-420f-4c6a-8084-fdb4cfe0fbdb.png)\n",
    "\n",
    "它对应的导数是6*(x+2),x=1时，值为18。平均值的导数为18/4=4.5\n",
    "\n",
    "下面的例子也可以验证这个计算方法"
   ]
  },
  {
   "cell_type": "code",
   "execution_count": 9,
   "id": "8f4569a1-3f2f-4e19-8960-faa4eb7a791d",
   "metadata": {},
   "outputs": [
    {
     "name": "stdout",
     "output_type": "stream",
     "text": [
      "tensor([[3., 4.],\n",
      "        [4., 5.]], dtype=torch.float64, grad_fn=<AddBackward0>)\n",
      "tensor([[27., 48.],\n",
      "        [48., 75.]], dtype=torch.float64, grad_fn=<MulBackward0>) tensor(49.5000, dtype=torch.float64, grad_fn=<MeanBackward0>)\n",
      "tensor([[4.5000, 6.0000],\n",
      "        [6.0000, 7.5000]], dtype=torch.float64)\n"
     ]
    }
   ],
   "source": [
    "x = torch.tensor([[1,2],\n",
    "                  [2,3]],dtype = float, requires_grad=True)\n",
    "y = x + 2\n",
    "print(y)\n",
    "z = y * y * 3\n",
    "out = z.mean()\n",
    "\n",
    "print(z, out)\n",
    "out.backward()\n",
    "print(x.grad)\n"
   ]
  },
  {
   "cell_type": "markdown",
   "id": "0f62fdd5-2225-4798-ad53-432fe8722fa2",
   "metadata": {},
   "source": [
    "## 4. sum求导"
   ]
  },
  {
   "cell_type": "code",
   "execution_count": 10,
   "id": "d5993b57-41e3-48d6-b3ed-7e9869a74fca",
   "metadata": {},
   "outputs": [
    {
     "name": "stdout",
     "output_type": "stream",
     "text": [
      "tensor(8., dtype=torch.float64, grad_fn=<SumBackward0>)\n"
     ]
    },
    {
     "data": {
      "text/plain": [
       "tensor([[1., 1.],\n",
       "        [1., 1.]], dtype=torch.float64)"
      ]
     },
     "execution_count": 10,
     "metadata": {},
     "output_type": "execute_result"
    }
   ],
   "source": [
    "x = torch.tensor([[1,2],\n",
    "                  [2,3]], dtype = float, requires_grad=True)\n",
    "out = x.sum()\n",
    "print(out)\n",
    "out.backward()\n",
    "x.grad"
   ]
  },
  {
   "cell_type": "markdown",
   "id": "e2a3d171-a56d-44b3-9ef7-8bd7fb0c23da",
   "metadata": {},
   "source": [
    "<b><font size=3>求导分析：</font></b>\n",
    "\n",
    "为啥是1，因为求和的公式为sum=a1+a2+a3+a4\n",
    "\n",
    "每个元素，都假设其它元素为常量，则导数为1"
   ]
  },
  {
   "cell_type": "markdown",
   "id": "808f4932-7ce2-4333-a308-3b0d085ac715",
   "metadata": {},
   "source": [
    "## 5. 常数和tensor的求导分析"
   ]
  },
  {
   "cell_type": "code",
   "execution_count": 11,
   "id": "8bf4876b-e5ba-445b-94b2-626464cff60f",
   "metadata": {},
   "outputs": [
    {
     "name": "stdout",
     "output_type": "stream",
     "text": [
      "tensor([[20., 20.],\n",
      "        [20., 20.]], grad_fn=<AddBackward0>)\n",
      "tensor(20., grad_fn=<MeanBackward0>)\n",
      "tensor(12.)\n",
      "tensor([[1., 1.],\n",
      "        [1., 1.]])\n"
     ]
    }
   ],
   "source": [
    "x = torch.tensor(3.,requires_grad=True)\n",
    "y = torch.ones(2,2,requires_grad=True)\n",
    "\n",
    "t = x*x\n",
    "z = 2*t+2*y*y\n",
    "print(z)\n",
    "z = z.mean() # z中所有元素的均值\n",
    "print(z)\n",
    "z.backward()\n",
    "\n",
    "print(x.grad)\n",
    "print(y.grad)\n"
   ]
  },
  {
   "attachments": {
    "9e8d149e-3ea3-4519-9681-0ee350149824.png": {
     "image/png": "[encoded data removed]"
    },
    "e3962fb7-6f84-440b-a157-d02b19861bde.png": {
     "image/png": "[encoded data removed]"
    }
   },
   "cell_type": "markdown",
   "id": "e2f81f21-3f2c-40c8-bdf0-9373d368a4f1",
   "metadata": {},
   "source": [
    "<b><font size=3>求导分析：</font></b>\n",
    "\n",
    "根据求导网站可得求导公式https://www.wolframalpha.com/input?i=2*x**2%2B2*y**2\n",
    "\n",
    "![image.png](attachment:9e8d149e-3ea3-4519-9681-0ee350149824.png)\n",
    "\n",
    "求导公式为\n",
    "\n",
    "\n",
    "![image.png](attachment:e3962fb7-6f84-440b-a157-d02b19861bde.png)"
   ]
  },
  {
   "cell_type": "markdown",
   "id": "fb693a08-83d4-4d46-87ca-dfdee6b2a184",
   "metadata": {},
   "source": [
    "<b><font size=3>所以：</font></b>\n",
    "\n",
    "x.grad=12, 根据x的求导公式4*x，当x=3时，就计算出了12\n",
    "\n",
    "y.grad=1, 根据y的求导公式4*y,当y=1时，得4，然后除以4，就得1"
   ]
  },
  {
   "cell_type": "markdown",
   "id": "6a0862f4-5974-45f1-bb4d-48f958e875ea",
   "metadata": {},
   "source": [
    "## 6. 两个tensor的求导分析"
   ]
  },
  {
   "cell_type": "code",
   "execution_count": 12,
   "id": "7e696307-88c5-415b-bf8f-93235be4fc96",
   "metadata": {},
   "outputs": [
    {
     "name": "stdout",
     "output_type": "stream",
     "text": [
      "z: tensor([[ 4., 10.],\n",
      "        [10., 20.]], dtype=torch.float64, grad_fn=<AddBackward0>)\n",
      "z.mean: tensor(11., dtype=torch.float64, grad_fn=<MeanBackward0>)\n",
      "tensor([[1., 2.],\n",
      "        [2., 3.]], dtype=torch.float64)\n",
      "tensor([[1., 1.],\n",
      "        [1., 1.]])\n"
     ]
    }
   ],
   "source": [
    "x = torch.tensor([[1,2],\n",
    "                  [2,3]],dtype = float,requires_grad=True)\n",
    "y = torch.ones(2,2,requires_grad=True)\n",
    "\n",
    "t = x*x\n",
    "z = 2*t+2*y*y\n",
    "print('z:',z)\n",
    "z = z.mean() # z中所有元素的均值\n",
    "print('z.mean:',z)\n",
    "z.backward()\n",
    "\n",
    "print(x.grad)\n",
    "print(y.grad)"
   ]
  },
  {
   "cell_type": "markdown",
   "id": "f15fbc38-0997-4fa2-8791-9e9fe068adf3",
   "metadata": {},
   "source": [
    "<b><font size=3>求导分析：</font></b>\n",
    "\n",
    "x.grad, 根据x的求导公式4*x，当x=1时，就计算出了4,然后除以4为1，同理得其它\n",
    "\n",
    "y.grad=1, 根据y的求导公式4*y,当y=1时，得4，然后除以4，就得1"
   ]
  },
  {
   "cell_type": "code",
   "execution_count": null,
   "id": "8d83984d-7e8f-46a4-934a-bca2f660e9a4",
   "metadata": {},
   "outputs": [],
   "source": []
  }
 ],
 "metadata": {
  "kernelspec": {
   "display_name": "Python 3 (ipykernel)",
   "language": "python",
   "name": "python3"
  },
  "language_info": {
   "codemirror_mode": {
    "name": "ipython",
    "version": 3
   },
   "file_extension": ".py",
   "mimetype": "text/x-python",
   "name": "python",
   "nbconvert_exporter": "python",
   "pygments_lexer": "ipython3",
   "version": "3.10.9"
  }
 },
 "nbformat": 4,
 "nbformat_minor": 5
}
